{
 "cells": [
  {
   "cell_type": "code",
   "execution_count": 1,
   "metadata": {},
   "outputs": [],
   "source": [
    "import calendar\n",
    "\n",
    "def fetch_week_date(year,month):\n",
    "    \n",
    "    year = year\n",
    "    month = month\n",
    "#計算有幾個Friday在這個月\n",
    "    day_to_count = calendar.FRIDAY\n",
    "\n",
    "    matrix = calendar.monthcalendar(year,month)\n",
    "\n",
    "    number_days = sum(1 for x in matrix if x[day_to_count] != 0)\n",
    "\n",
    "#取出每個禮拜五的日期    \n",
    "\n",
    "    column_date=[]\n",
    "    c = calendar.Calendar(firstweekday=calendar.FRIDAY)\n",
    "    monthcal = c.monthdatescalendar(year,month)\n",
    "    \n",
    "    for i in range(0,number_days):\n",
    "\n",
    "        friday = [day for week in monthcal for day in week if day.weekday() == calendar.FRIDAY and day.month == month][i]\n",
    "        column_date.append(friday)\n",
    "        \n",
    "    return column_date"
   ]
  },
  {
   "cell_type": "code",
   "execution_count": 2,
   "metadata": {},
   "outputs": [
    {
     "data": {
      "text/plain": [
       "['2019/12/06', '2019/12/13', '2019/12/20', '2019/12/27']"
      ]
     },
     "execution_count": 2,
     "metadata": {},
     "output_type": "execute_result"
    }
   ],
   "source": [
    "week_date = fetch_week_date(2019,12)\n",
    "\n",
    "for i in range(0,len(week_date)):\n",
    "    week_date[i] = week_date[i].strftime(\"%Y/%m/%d\")\n",
    "    \n",
    "week_date\n"
   ]
  }
 ],
 "metadata": {
  "kernelspec": {
   "display_name": "Python 3",
   "language": "python",
   "name": "python3"
  },
  "language_info": {
   "codemirror_mode": {
    "name": "ipython",
    "version": 3
   },
   "file_extension": ".py",
   "mimetype": "text/x-python",
   "name": "python",
   "nbconvert_exporter": "python",
   "pygments_lexer": "ipython3",
   "version": "3.7.7"
  }
 },
 "nbformat": 4,
 "nbformat_minor": 4
}
