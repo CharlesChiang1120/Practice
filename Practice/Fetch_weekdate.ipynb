{
 "cells": [
  {
   "cell_type": "code",
   "execution_count": 2,
   "metadata": {},
   "outputs": [
    {
     "data": {
      "text/plain": [
       "datetime.date(2020, 3, 27)"
      ]
     },
     "execution_count": 2,
     "metadata": {},
     "output_type": "execute_result"
    }
   ],
   "source": [
    "import calendar\n",
    "\n",
    "c = calendar.Calendar(firstweekday=calendar.SUNDAY)\n",
    "\n",
    "year = 2020; month = 3\n",
    "\n",
    "monthcal = c.monthdatescalendar(year,month)\n",
    "third_friday = [day for week in monthcal for day in week if \\\n",
    "                day.weekday() == calendar.FRIDAY and \\\n",
    "                day.month == month][3]\n",
    "third_friday"
   ]
  }
 ],
 "metadata": {
  "kernelspec": {
   "display_name": "Python 3",
   "language": "python",
   "name": "python3"
  },
  "language_info": {
   "codemirror_mode": {
    "name": "ipython",
    "version": 3
   },
   "file_extension": ".py",
   "mimetype": "text/x-python",
   "name": "python",
   "nbconvert_exporter": "python",
   "pygments_lexer": "ipython3",
   "version": "3.7.7"
  }
 },
 "nbformat": 4,
 "nbformat_minor": 4
}
