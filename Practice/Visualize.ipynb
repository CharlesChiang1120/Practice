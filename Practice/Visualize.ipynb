{
 "cells": [
  {
   "cell_type": "code",
   "execution_count": 20,
   "metadata": {},
   "outputs": [],
   "source": [
    "import numpy as np\n",
    "import pandas as pd\n",
    "from sklearn import datasets\n",
    "import matplotlib.pyplot as plt\n",
    "import seaborn as sns\n",
    "import warnings"
   ]
  },
  {
   "cell_type": "code",
   "execution_count": 2,
   "metadata": {},
   "outputs": [],
   "source": [
    "warnings.filterwarnings('ignore')"
   ]
  },
  {
   "cell_type": "code",
   "execution_count": 3,
   "metadata": {},
   "outputs": [
    {
     "data": {
      "text/html": [
       "<div>\n",
       "<style scoped>\n",
       "    .dataframe tbody tr th:only-of-type {\n",
       "        vertical-align: middle;\n",
       "    }\n",
       "\n",
       "    .dataframe tbody tr th {\n",
       "        vertical-align: top;\n",
       "    }\n",
       "\n",
       "    .dataframe thead th {\n",
       "        text-align: right;\n",
       "    }\n",
       "</style>\n",
       "<table border=\"1\" class=\"dataframe\">\n",
       "  <thead>\n",
       "    <tr style=\"text-align: right;\">\n",
       "      <th></th>\n",
       "      <th>sepal length (cm)</th>\n",
       "      <th>sepal width (cm)</th>\n",
       "      <th>petal length (cm)</th>\n",
       "      <th>petal width (cm)</th>\n",
       "      <th>target</th>\n",
       "    </tr>\n",
       "  </thead>\n",
       "  <tbody>\n",
       "    <tr>\n",
       "      <th>0</th>\n",
       "      <td>5.1</td>\n",
       "      <td>3.5</td>\n",
       "      <td>1.4</td>\n",
       "      <td>0.2</td>\n",
       "      <td>0</td>\n",
       "    </tr>\n",
       "    <tr>\n",
       "      <th>1</th>\n",
       "      <td>4.9</td>\n",
       "      <td>3.0</td>\n",
       "      <td>1.4</td>\n",
       "      <td>0.2</td>\n",
       "      <td>0</td>\n",
       "    </tr>\n",
       "    <tr>\n",
       "      <th>2</th>\n",
       "      <td>4.7</td>\n",
       "      <td>3.2</td>\n",
       "      <td>1.3</td>\n",
       "      <td>0.2</td>\n",
       "      <td>0</td>\n",
       "    </tr>\n",
       "    <tr>\n",
       "      <th>3</th>\n",
       "      <td>4.6</td>\n",
       "      <td>3.1</td>\n",
       "      <td>1.5</td>\n",
       "      <td>0.2</td>\n",
       "      <td>0</td>\n",
       "    </tr>\n",
       "    <tr>\n",
       "      <th>4</th>\n",
       "      <td>5.0</td>\n",
       "      <td>3.6</td>\n",
       "      <td>1.4</td>\n",
       "      <td>0.2</td>\n",
       "      <td>0</td>\n",
       "    </tr>\n",
       "    <tr>\n",
       "      <th>...</th>\n",
       "      <td>...</td>\n",
       "      <td>...</td>\n",
       "      <td>...</td>\n",
       "      <td>...</td>\n",
       "      <td>...</td>\n",
       "    </tr>\n",
       "    <tr>\n",
       "      <th>145</th>\n",
       "      <td>6.7</td>\n",
       "      <td>3.0</td>\n",
       "      <td>5.2</td>\n",
       "      <td>2.3</td>\n",
       "      <td>2</td>\n",
       "    </tr>\n",
       "    <tr>\n",
       "      <th>146</th>\n",
       "      <td>6.3</td>\n",
       "      <td>2.5</td>\n",
       "      <td>5.0</td>\n",
       "      <td>1.9</td>\n",
       "      <td>2</td>\n",
       "    </tr>\n",
       "    <tr>\n",
       "      <th>147</th>\n",
       "      <td>6.5</td>\n",
       "      <td>3.0</td>\n",
       "      <td>5.2</td>\n",
       "      <td>2.0</td>\n",
       "      <td>2</td>\n",
       "    </tr>\n",
       "    <tr>\n",
       "      <th>148</th>\n",
       "      <td>6.2</td>\n",
       "      <td>3.4</td>\n",
       "      <td>5.4</td>\n",
       "      <td>2.3</td>\n",
       "      <td>2</td>\n",
       "    </tr>\n",
       "    <tr>\n",
       "      <th>149</th>\n",
       "      <td>5.9</td>\n",
       "      <td>3.0</td>\n",
       "      <td>5.1</td>\n",
       "      <td>1.8</td>\n",
       "      <td>2</td>\n",
       "    </tr>\n",
       "  </tbody>\n",
       "</table>\n",
       "<p>150 rows × 5 columns</p>\n",
       "</div>"
      ],
      "text/plain": [
       "     sepal length (cm)  sepal width (cm)  petal length (cm)  petal width (cm)  \\\n",
       "0                  5.1               3.5                1.4               0.2   \n",
       "1                  4.9               3.0                1.4               0.2   \n",
       "2                  4.7               3.2                1.3               0.2   \n",
       "3                  4.6               3.1                1.5               0.2   \n",
       "4                  5.0               3.6                1.4               0.2   \n",
       "..                 ...               ...                ...               ...   \n",
       "145                6.7               3.0                5.2               2.3   \n",
       "146                6.3               2.5                5.0               1.9   \n",
       "147                6.5               3.0                5.2               2.0   \n",
       "148                6.2               3.4                5.4               2.3   \n",
       "149                5.9               3.0                5.1               1.8   \n",
       "\n",
       "     target  \n",
       "0         0  \n",
       "1         0  \n",
       "2         0  \n",
       "3         0  \n",
       "4         0  \n",
       "..      ...  \n",
       "145       2  \n",
       "146       2  \n",
       "147       2  \n",
       "148       2  \n",
       "149       2  \n",
       "\n",
       "[150 rows x 5 columns]"
      ]
     },
     "execution_count": 3,
     "metadata": {},
     "output_type": "execute_result"
    }
   ],
   "source": [
    "iris = datasets.load_iris()\n",
    "x = pd.DataFrame(iris['data'],columns = iris['feature_names'])\n",
    "y = pd.DataFrame(iris['target'],columns=['target'])\n",
    "data = pd.concat([x,y],axis = 1)\n",
    "data"
   ]
  },
  {
   "cell_type": "markdown",
   "metadata": {},
   "source": [
    "## Matplotlib"
   ]
  },
  {
   "cell_type": "code",
   "execution_count": 4,
   "metadata": {},
   "outputs": [],
   "source": [
    "%matplotlib inline"
   ]
  },
  {
   "cell_type": "code",
   "execution_count": 5,
   "metadata": {
    "scrolled": true
   },
   "outputs": [
    {
     "data": {
      "image/png": "[encoded data removed]",
      "text/plain": [
       "<Figure size 432x288 with 1 Axes>"
      ]
     },
     "metadata": {
      "needs_background": "light"
     },
     "output_type": "display_data"
    }
   ],
   "source": [
    "plt.plot([1,2,3,4],[1,4,9,16],'c-.')\n",
    "plt.xlabel('X_Label')\n",
    "plt.ylabel('Y_Label')\n",
    "plt.axis([1,4,1,16])\n",
    "plt.show()"
   ]
  },
  {
   "cell_type": "code",
   "execution_count": 6,
   "metadata": {},
   "outputs": [],
   "source": [
    "t = np.arange(0,5,0.2)"
   ]
  },
  {
   "cell_type": "code",
   "execution_count": 7,
   "metadata": {},
   "outputs": [
    {
     "data": {
      "text/plain": [
       "[<matplotlib.lines.Line2D at 0x11f1b8dd0>,\n",
       " <matplotlib.lines.Line2D at 0x11f1b8d10>,\n",
       " <matplotlib.lines.Line2D at 0x11d036f50>]"
      ]
     },
     "execution_count": 7,
     "metadata": {},
     "output_type": "execute_result"
    },
    {
     "data": {
      "image/png": "[encoded data removed]",
      "text/plain": [
       "<Figure size 432x288 with 1 Axes>"
      ]
     },
     "metadata": {
      "needs_background": "light"
     },
     "output_type": "display_data"
    }
   ],
   "source": [
    "plt.plot(t,t,'r--',t,t**2,'bs',t,t**3,'^k')"
   ]
  },
  {
   "cell_type": "code",
   "execution_count": 8,
   "metadata": {},
   "outputs": [
    {
     "data": {
      "text/plain": [
       "<BarContainer object of 15 artists>"
      ]
     },
     "execution_count": 8,
     "metadata": {},
     "output_type": "execute_result"
    },
    {
     "data": {
      "image/png": "[encoded data removed]",
      "text/plain": [
       "<Figure size 432x288 with 1 Axes>"
      ]
     },
     "metadata": {
      "needs_background": "light"
     },
     "output_type": "display_data"
    }
   ],
   "source": [
    "x= [4,5,6,7,8,9,1,2,3,4,5,6,7,8,9]\n",
    "y=[10,11,23,56,4,3,6,7,23,5,78,9,23,45,67]\n",
    "plt.bar(x,y)"
   ]
  },
  {
   "cell_type": "code",
   "execution_count": 9,
   "metadata": {},
   "outputs": [
    {
     "data": {
      "text/plain": [
       "<matplotlib.collections.PathCollection at 0x11cc93d50>"
      ]
     },
     "execution_count": 9,
     "metadata": {},
     "output_type": "execute_result"
    },
    {
     "data": {
      "image/png": "[encoded data removed]",
      "text/plain": [
       "<Figure size 432x288 with 1 Axes>"
      ]
     },
     "metadata": {
      "needs_background": "light"
     },
     "output_type": "display_data"
    }
   ],
   "source": [
    "plt.scatter(x,y)"
   ]
  },
  {
   "cell_type": "code",
   "execution_count": 10,
   "metadata": {},
   "outputs": [
    {
     "data": {
      "text/plain": [
       "<matplotlib.axes._subplots.AxesSubplot at 0x11f530f90>"
      ]
     },
     "execution_count": 10,
     "metadata": {},
     "output_type": "execute_result"
    },
    {
     "data": {
      "image/png": "[encoded data removed]",
      "text/plain": [
       "<Figure size 432x288 with 2 Axes>"
      ]
     },
     "metadata": {
      "needs_background": "light"
     },
     "output_type": "display_data"
    }
   ],
   "source": [
    "data.plot.scatter('sepal length (cm)','sepal width (cm)',c='target')"
   ]
  },
  {
   "cell_type": "code",
   "execution_count": 11,
   "metadata": {},
   "outputs": [],
   "source": [
    "color = {0:'r',1:'g',2:'c'}"
   ]
  },
  {
   "cell_type": "code",
   "execution_count": 12,
   "metadata": {},
   "outputs": [],
   "source": [
    "data['color'] = data['target'].map(color)"
   ]
  },
  {
   "cell_type": "code",
   "execution_count": 13,
   "metadata": {},
   "outputs": [
    {
     "data": {
      "text/plain": [
       "<matplotlib.axes._subplots.AxesSubplot at 0x11f62d6d0>"
      ]
     },
     "execution_count": 13,
     "metadata": {},
     "output_type": "execute_result"
    },
    {
     "data": {
      "image/png": "[encoded data removed]",
      "text/plain": [
       "<Figure size 432x288 with 1 Axes>"
      ]
     },
     "metadata": {
      "needs_background": "light"
     },
     "output_type": "display_data"
    }
   ],
   "source": [
    "data.plot.scatter('sepal length (cm)','sepal width (cm)',c=data['color'])"
   ]
  },
  {
   "cell_type": "code",
   "execution_count": 14,
   "metadata": {},
   "outputs": [
    {
     "data": {
      "text/plain": [
       "<matplotlib.axes._subplots.AxesSubplot at 0x11f70b990>"
      ]
     },
     "execution_count": 14,
     "metadata": {},
     "output_type": "execute_result"
    },
    {
     "data": {
      "image/png": "[encoded data removed]",
      "text/plain": [
       "<Figure size 432x288 with 1 Axes>"
      ]
     },
     "metadata": {
      "needs_background": "light"
     },
     "output_type": "display_data"
    }
   ],
   "source": [
    "ax = data[data['target']==0].plot.scatter(x='sepal length (cm)',y = 'petal width (cm)',alpha = 0.5,color='r',label = 'setosa')\n",
    "data[data['target']==1].plot.scatter(x='sepal length (cm)',y = 'petal width (cm)',alpha = 0.5,color='g',label = 'versicolor',ax=ax)\n",
    "data[data['target']==2].plot.scatter(x='sepal length (cm)',y = 'petal width (cm)',alpha = 0.5,color='b',label = 'virginica',ax=ax)\n",
    "\n"
   ]
  },
  {
   "cell_type": "code",
   "execution_count": 15,
   "metadata": {},
   "outputs": [
    {
     "data": {
      "text/plain": [
       "['Solarize_Light2',\n",
       " '_classic_test_patch',\n",
       " 'bmh',\n",
       " 'classic',\n",
       " 'dark_background',\n",
       " 'fast',\n",
       " 'fivethirtyeight',\n",
       " 'ggplot',\n",
       " 'grayscale',\n",
       " 'seaborn',\n",
       " 'seaborn-bright',\n",
       " 'seaborn-colorblind',\n",
       " 'seaborn-dark',\n",
       " 'seaborn-dark-palette',\n",
       " 'seaborn-darkgrid',\n",
       " 'seaborn-deep',\n",
       " 'seaborn-muted',\n",
       " 'seaborn-notebook',\n",
       " 'seaborn-paper',\n",
       " 'seaborn-pastel',\n",
       " 'seaborn-poster',\n",
       " 'seaborn-talk',\n",
       " 'seaborn-ticks',\n",
       " 'seaborn-white',\n",
       " 'seaborn-whitegrid',\n",
       " 'tableau-colorblind10']"
      ]
     },
     "execution_count": 15,
     "metadata": {},
     "output_type": "execute_result"
    }
   ],
   "source": [
    "plt.style.available"
   ]
  },
  {
   "cell_type": "code",
   "execution_count": 32,
   "metadata": {},
   "outputs": [],
   "source": [
    "plt.style.use('default')"
   ]
  },
  {
   "cell_type": "code",
   "execution_count": 33,
   "metadata": {},
   "outputs": [
    {
     "data": {
      "image/png": "[encoded data removed]",
      "text/plain": [
       "<Figure size 640x480 with 1 Axes>"
      ]
     },
     "metadata": {},
     "output_type": "display_data"
    }
   ],
   "source": [
    "N = 50\n",
    "x = np.random.rand(N)\n",
    "y = np.random.rand(N)\n",
    "colors = np.random.rand(N)\n",
    "area = np.pi * (15 * np.random.rand(N))**2\n",
    "plt.scatter(x,y,s=area,c=colors,alpha=0.5)\n",
    "plt.show()"
   ]
  },
  {
   "cell_type": "markdown",
   "metadata": {},
   "source": [
    "## Seaborn"
   ]
  },
  {
   "cell_type": "code",
   "execution_count": 39,
   "metadata": {},
   "outputs": [
    {
     "data": {
      "text/plain": [
       "<seaborn.axisgrid.FacetGrid at 0x1241aaa90>"
      ]
     },
     "execution_count": 39,
     "metadata": {},
     "output_type": "execute_result"
    },
    {
     "data": {
      "image/png": "[encoded data removed]",
      "text/plain": [
       "<Figure size 617.75x500 with 1 Axes>"
      ]
     },
     "metadata": {},
     "output_type": "display_data"
    }
   ],
   "source": [
    "sns.lmplot('sepal length (cm)','petal width (cm)',data = data,fit_reg = False, hue = 'target_name')"
   ]
  },
  {
   "cell_type": "code",
   "execution_count": 35,
   "metadata": {},
   "outputs": [],
   "source": [
    "color = {0:'setosa',1:'versicolor',2:'virginica'}\n",
    "data['target_name'] = data['target'].map(color)"
   ]
  },
  {
   "cell_type": "code",
   "execution_count": 38,
   "metadata": {},
   "outputs": [
    {
     "data": {
      "text/html": [
       "<div>\n",
       "<style scoped>\n",
       "    .dataframe tbody tr th:only-of-type {\n",
       "        vertical-align: middle;\n",
       "    }\n",
       "\n",
       "    .dataframe tbody tr th {\n",
       "        vertical-align: top;\n",
       "    }\n",
       "\n",
       "    .dataframe thead th {\n",
       "        text-align: right;\n",
       "    }\n",
       "</style>\n",
       "<table border=\"1\" class=\"dataframe\">\n",
       "  <thead>\n",
       "    <tr style=\"text-align: right;\">\n",
       "      <th></th>\n",
       "      <th>sepal length (cm)</th>\n",
       "      <th>sepal width (cm)</th>\n",
       "      <th>petal length (cm)</th>\n",
       "      <th>petal width (cm)</th>\n",
       "      <th>target</th>\n",
       "      <th>target_name</th>\n",
       "    </tr>\n",
       "  </thead>\n",
       "  <tbody>\n",
       "    <tr>\n",
       "      <th>0</th>\n",
       "      <td>5.1</td>\n",
       "      <td>3.5</td>\n",
       "      <td>1.4</td>\n",
       "      <td>0.2</td>\n",
       "      <td>0</td>\n",
       "      <td>setosa</td>\n",
       "    </tr>\n",
       "    <tr>\n",
       "      <th>1</th>\n",
       "      <td>4.9</td>\n",
       "      <td>3.0</td>\n",
       "      <td>1.4</td>\n",
       "      <td>0.2</td>\n",
       "      <td>0</td>\n",
       "      <td>setosa</td>\n",
       "    </tr>\n",
       "    <tr>\n",
       "      <th>2</th>\n",
       "      <td>4.7</td>\n",
       "      <td>3.2</td>\n",
       "      <td>1.3</td>\n",
       "      <td>0.2</td>\n",
       "      <td>0</td>\n",
       "      <td>setosa</td>\n",
       "    </tr>\n",
       "    <tr>\n",
       "      <th>3</th>\n",
       "      <td>4.6</td>\n",
       "      <td>3.1</td>\n",
       "      <td>1.5</td>\n",
       "      <td>0.2</td>\n",
       "      <td>0</td>\n",
       "      <td>setosa</td>\n",
       "    </tr>\n",
       "    <tr>\n",
       "      <th>4</th>\n",
       "      <td>5.0</td>\n",
       "      <td>3.6</td>\n",
       "      <td>1.4</td>\n",
       "      <td>0.2</td>\n",
       "      <td>0</td>\n",
       "      <td>setosa</td>\n",
       "    </tr>\n",
       "    <tr>\n",
       "      <th>...</th>\n",
       "      <td>...</td>\n",
       "      <td>...</td>\n",
       "      <td>...</td>\n",
       "      <td>...</td>\n",
       "      <td>...</td>\n",
       "      <td>...</td>\n",
       "    </tr>\n",
       "    <tr>\n",
       "      <th>145</th>\n",
       "      <td>6.7</td>\n",
       "      <td>3.0</td>\n",
       "      <td>5.2</td>\n",
       "      <td>2.3</td>\n",
       "      <td>2</td>\n",
       "      <td>virginica</td>\n",
       "    </tr>\n",
       "    <tr>\n",
       "      <th>146</th>\n",
       "      <td>6.3</td>\n",
       "      <td>2.5</td>\n",
       "      <td>5.0</td>\n",
       "      <td>1.9</td>\n",
       "      <td>2</td>\n",
       "      <td>virginica</td>\n",
       "    </tr>\n",
       "    <tr>\n",
       "      <th>147</th>\n",
       "      <td>6.5</td>\n",
       "      <td>3.0</td>\n",
       "      <td>5.2</td>\n",
       "      <td>2.0</td>\n",
       "      <td>2</td>\n",
       "      <td>virginica</td>\n",
       "    </tr>\n",
       "    <tr>\n",
       "      <th>148</th>\n",
       "      <td>6.2</td>\n",
       "      <td>3.4</td>\n",
       "      <td>5.4</td>\n",
       "      <td>2.3</td>\n",
       "      <td>2</td>\n",
       "      <td>virginica</td>\n",
       "    </tr>\n",
       "    <tr>\n",
       "      <th>149</th>\n",
       "      <td>5.9</td>\n",
       "      <td>3.0</td>\n",
       "      <td>5.1</td>\n",
       "      <td>1.8</td>\n",
       "      <td>2</td>\n",
       "      <td>virginica</td>\n",
       "    </tr>\n",
       "  </tbody>\n",
       "</table>\n",
       "<p>150 rows × 6 columns</p>\n",
       "</div>"
      ],
      "text/plain": [
       "     sepal length (cm)  sepal width (cm)  petal length (cm)  petal width (cm)  \\\n",
       "0                  5.1               3.5                1.4               0.2   \n",
       "1                  4.9               3.0                1.4               0.2   \n",
       "2                  4.7               3.2                1.3               0.2   \n",
       "3                  4.6               3.1                1.5               0.2   \n",
       "4                  5.0               3.6                1.4               0.2   \n",
       "..                 ...               ...                ...               ...   \n",
       "145                6.7               3.0                5.2               2.3   \n",
       "146                6.3               2.5                5.0               1.9   \n",
       "147                6.5               3.0                5.2               2.0   \n",
       "148                6.2               3.4                5.4               2.3   \n",
       "149                5.9               3.0                5.1               1.8   \n",
       "\n",
       "     target target_name  \n",
       "0         0      setosa  \n",
       "1         0      setosa  \n",
       "2         0      setosa  \n",
       "3         0      setosa  \n",
       "4         0      setosa  \n",
       "..      ...         ...  \n",
       "145       2   virginica  \n",
       "146       2   virginica  \n",
       "147       2   virginica  \n",
       "148       2   virginica  \n",
       "149       2   virginica  \n",
       "\n",
       "[150 rows x 6 columns]"
      ]
     },
     "execution_count": 38,
     "metadata": {},
     "output_type": "execute_result"
    }
   ],
   "source": [
    "data"
   ]
  },
  {
   "cell_type": "markdown",
   "metadata": {},
   "source": [
    "## Plotly"
   ]
  },
  {
   "cell_type": "code",
   "execution_count": 46,
   "metadata": {},
   "outputs": [],
   "source": [
    "import plotly\n",
    "from plotly.graph_objs import Scatter,Layout"
   ]
  },
  {
   "cell_type": "code",
   "execution_count": 48,
   "metadata": {},
   "outputs": [
    {
     "data": {
      "text/html": [
       "        <script type=\"text/javascript\">\n",
       "        window.PlotlyConfig = {MathJaxConfig: 'local'};\n",
       "        if (window.MathJax) {MathJax.Hub.Config({SVG: {font: \"STIX-Web\"}});}\n",
       "        if (typeof require !== 'undefined') {\n",
       "        require.undef(\"plotly\");\n",
       "        requirejs.config({\n",
       "            paths: {\n",
       "                'plotly': ['https://cdn.plot.ly/plotly-latest.min']\n",
       "            }\n",
       "        });\n",
       "        require(['plotly'], function(Plotly) {\n",
       "            window._Plotly = Plotly;\n",
       "        });\n",
       "        }\n",
       "        </script>\n",
       "        "
      ]
     },
     "metadata": {},
     "output_type": "display_data"
    },
    {
     "data": {
      "application/vnd.plotly.v1+json": {
       "config": {
        "linkText": "Export to plot.ly",
        "plotlyServerURL": "https://plot.ly",
        "showLink": false
       },
       "data": [
        {
         "type": "scatter",
         "x": [
          1,
          2,
          3,
          4
         ],
         "y": [
          4,
          3,
          2,
          1
         ]
        }
       ],
       "layout": {
        "template": {
         "data": {
          "bar": [
           {
            "error_x": {
             "color": "#2a3f5f"
            },
            "error_y": {
             "color": "#2a3f5f"
            },
            "marker": {
             "line": {
              "color": "#E5ECF6",
              "width": 0.5
             }
            },
            "type": "bar"
           }
          ],
          "barpolar": [
           {
            "marker": {
             "line": {
              "color": "#E5ECF6",
              "width": 0.5
             }
            },
            "type": "barpolar"
           }
          ],
          "carpet": [
           {
            "aaxis": {
             "endlinecolor": "#2a3f5f",
             "gridcolor": "white",
             "linecolor": "white",
             "minorgridcolor": "white",
             "startlinecolor": "#2a3f5f"
            },
            "baxis": {
             "endlinecolor": "#2a3f5f",
             "gridcolor": "white",
             "linecolor": "white",
             "minorgridcolor": "white",
             "startlinecolor": "#2a3f5f"
            },
            "type": "carpet"
           }
          ],
          "choropleth": [
           {
            "colorbar": {
             "outlinewidth": 0,
             "ticks": ""
            },
            "type": "choropleth"
           }
          ],
          "contour": [
           {
            "colorbar": {
             "outlinewidth": 0,
             "ticks": ""
            },
            "colorscale": [
             [
              0,
              "#0d0887"
             ],
             [
              0.1111111111111111,
              "#46039f"
             ],
             [
              0.2222222222222222,
              "#7201a8"
             ],
             [
              0.3333333333333333,
              "#9c179e"
             ],
             [
              0.4444444444444444,
              "#bd3786"
             ],
             [
              0.5555555555555556,
              "#d8576b"
             ],
             [
              0.6666666666666666,
              "#ed7953"
             ],
             [
              0.7777777777777778,
              "#fb9f3a"
             ],
             [
              0.8888888888888888,
              "#fdca26"
             ],
             [
              1,
              "#f0f921"
             ]
            ],
            "type": "contour"
           }
          ],
          "contourcarpet": [
           {
            "colorbar": {
             "outlinewidth": 0,
             "ticks": ""
            },
            "type": "contourcarpet"
           }
          ],
          "heatmap": [
           {
            "colorbar": {
             "outlinewidth": 0,
             "ticks": ""
            },
            "colorscale": [
             [
              0,
              "#0d0887"
             ],
             [
              0.1111111111111111,
              "#46039f"
             ],
             [
              0.2222222222222222,
              "#7201a8"
             ],
             [
              0.3333333333333333,
              "#9c179e"
             ],
             [
              0.4444444444444444,
              "#bd3786"
             ],
             [
              0.5555555555555556,
              "#d8576b"
             ],
             [
              0.6666666666666666,
              "#ed7953"
             ],
             [
              0.7777777777777778,
              "#fb9f3a"
             ],
             [
              0.8888888888888888,
              "#fdca26"
             ],
             [
              1,
              "#f0f921"
             ]
            ],
            "type": "heatmap"
           }
          ],
          "heatmapgl": [
           {
            "colorbar": {
             "outlinewidth": 0,
             "ticks": ""
            },
            "colorscale": [
             [
              0,
              "#0d0887"
             ],
             [
              0.1111111111111111,
              "#46039f"
             ],
             [
              0.2222222222222222,
              "#7201a8"
             ],
             [
              0.3333333333333333,
              "#9c179e"
             ],
             [
              0.4444444444444444,
              "#bd3786"
             ],
             [
              0.5555555555555556,
              "#d8576b"
             ],
             [
              0.6666666666666666,
              "#ed7953"
             ],
             [
              0.7777777777777778,
              "#fb9f3a"
             ],
             [
              0.8888888888888888,
              "#fdca26"
             ],
             [
              1,
              "#f0f921"
             ]
            ],
            "type": "heatmapgl"
           }
          ],
          "histogram": [
           {
            "marker": {
             "colorbar": {
              "outlinewidth": 0,
              "ticks": ""
             }
            },
            "type": "histogram"
           }
          ],
          "histogram2d": [
           {
            "colorbar": {
             "outlinewidth": 0,
             "ticks": ""
            },
            "colorscale": [
             [
              0,
              "#0d0887"
             ],
             [
              0.1111111111111111,
              "#46039f"
             ],
             [
              0.2222222222222222,
              "#7201a8"
             ],
             [
              0.3333333333333333,
              "#9c179e"
             ],
             [
              0.4444444444444444,
              "#bd3786"
             ],
             [
              0.5555555555555556,
              "#d8576b"
             ],
             [
              0.6666666666666666,
              "#ed7953"
             ],
             [
              0.7777777777777778,
              "#fb9f3a"
             ],
             [
              0.8888888888888888,
              "#fdca26"
             ],
             [
              1,
              "#f0f921"
             ]
            ],
            "type": "histogram2d"
           }
          ],
          "histogram2dcontour": [
           {
            "colorbar": {
             "outlinewidth": 0,
             "ticks": ""
            },
            "colorscale": [
             [
              0,
              "#0d0887"
             ],
             [
              0.1111111111111111,
              "#46039f"
             ],
             [
              0.2222222222222222,
              "#7201a8"
             ],
             [
              0.3333333333333333,
              "#9c179e"
             ],
             [
              0.4444444444444444,
              "#bd3786"
             ],
             [
              0.5555555555555556,
              "#d8576b"
             ],
             [
              0.6666666666666666,
              "#ed7953"
             ],
             [
              0.7777777777777778,
              "#fb9f3a"
             ],
             [
              0.8888888888888888,
              "#fdca26"
             ],
             [
              1,
              "#f0f921"
             ]
            ],
            "type": "histogram2dcontour"
           }
          ],
          "mesh3d": [
           {
            "colorbar": {
             "outlinewidth": 0,
             "ticks": ""
            },
            "type": "mesh3d"
           }
          ],
          "parcoords": [
           {
            "line": {
             "colorbar": {
              "outlinewidth": 0,
              "ticks": ""
             }
            },
            "type": "parcoords"
           }
          ],
          "pie": [
           {
            "automargin": true,
            "type": "pie"
           }
          ],
          "scatter": [
           {
            "marker": {
             "colorbar": {
              "outlinewidth": 0,
              "ticks": ""
             }
            },
            "type": "scatter"
           }
          ],
          "scatter3d": [
           {
            "line": {
             "colorbar": {
              "outlinewidth": 0,
              "ticks": ""
             }
            },
            "marker": {
             "colorbar": {
              "outlinewidth": 0,
              "ticks": ""
             }
            },
            "type": "scatter3d"
           }
          ],
          "scattercarpet": [
           {
            "marker": {
             "colorbar": {
              "outlinewidth": 0,
              "ticks": ""
             }
            },
            "type": "scattercarpet"
           }
          ],
          "scattergeo": [
           {
            "marker": {
             "colorbar": {
              "outlinewidth": 0,
              "ticks": ""
             }
            },
            "type": "scattergeo"
           }
          ],
          "scattergl": [
           {
            "marker": {
             "colorbar": {
              "outlinewidth": 0,
              "ticks": ""
             }
            },
            "type": "scattergl"
           }
          ],
          "scattermapbox": [
           {
            "marker": {
             "colorbar": {
              "outlinewidth": 0,
              "ticks": ""
             }
            },
            "type": "scattermapbox"
           }
          ],
          "scatterpolar": [
           {
            "marker": {
             "colorbar": {
              "outlinewidth": 0,
              "ticks": ""
             }
            },
            "type": "scatterpolar"
           }
          ],
          "scatterpolargl": [
           {
            "marker": {
             "colorbar": {
              "outlinewidth": 0,
              "ticks": ""
             }
            },
            "type": "scatterpolargl"
           }
          ],
          "scatterternary": [
           {
            "marker": {
             "colorbar": {
              "outlinewidth": 0,
              "ticks": ""
             }
            },
            "type": "scatterternary"
           }
          ],
          "surface": [
           {
            "colorbar": {
             "outlinewidth": 0,
             "ticks": ""
            },
            "colorscale": [
             [
              0,
              "#0d0887"
             ],
             [
              0.1111111111111111,
              "#46039f"
             ],
             [
              0.2222222222222222,
              "#7201a8"
             ],
             [
              0.3333333333333333,
              "#9c179e"
             ],
             [
              0.4444444444444444,
              "#bd3786"
             ],
             [
              0.5555555555555556,
              "#d8576b"
             ],
             [
              0.6666666666666666,
              "#ed7953"
             ],
             [
              0.7777777777777778,
              "#fb9f3a"
             ],
             [
              0.8888888888888888,
              "#fdca26"
             ],
             [
              1,
              "#f0f921"
             ]
            ],
            "type": "surface"
           }
          ],
          "table": [
           {
            "cells": {
             "fill": {
              "color": "#EBF0F8"
             },
             "line": {
              "color": "white"
             }
            },
            "header": {
             "fill": {
              "color": "#C8D4E3"
             },
             "line": {
              "color": "white"
             }
            },
            "type": "table"
           }
          ]
         },
         "layout": {
          "annotationdefaults": {
           "arrowcolor": "#2a3f5f",
           "arrowhead": 0,
           "arrowwidth": 1
          },
          "coloraxis": {
           "colorbar": {
            "outlinewidth": 0,
            "ticks": ""
           }
          },
          "colorscale": {
           "diverging": [
            [
             0,
             "#8e0152"
            ],
            [
             0.1,
             "#c51b7d"
            ],
            [
             0.2,
             "#de77ae"
            ],
            [
             0.3,
             "#f1b6da"
            ],
            [
             0.4,
             "#fde0ef"
            ],
            [
             0.5,
             "#f7f7f7"
            ],
            [
             0.6,
             "#e6f5d0"
            ],
            [
             0.7,
             "#b8e186"
            ],
            [
             0.8,
             "#7fbc41"
            ],
            [
             0.9,
             "#4d9221"
            ],
            [
             1,
             "#276419"
            ]
           ],
           "sequential": [
            [
             0,
             "#0d0887"
            ],
            [
             0.1111111111111111,
             "#46039f"
            ],
            [
             0.2222222222222222,
             "#7201a8"
            ],
            [
             0.3333333333333333,
             "#9c179e"
            ],
            [
             0.4444444444444444,
             "#bd3786"
            ],
            [
             0.5555555555555556,
             "#d8576b"
            ],
            [
             0.6666666666666666,
             "#ed7953"
            ],
            [
             0.7777777777777778,
             "#fb9f3a"
            ],
            [
             0.8888888888888888,
             "#fdca26"
            ],
            [
             1,
             "#f0f921"
            ]
           ],
           "sequentialminus": [
            [
             0,
             "#0d0887"
            ],
            [
             0.1111111111111111,
             "#46039f"
            ],
            [
             0.2222222222222222,
             "#7201a8"
            ],
            [
             0.3333333333333333,
             "#9c179e"
            ],
            [
             0.4444444444444444,
             "#bd3786"
            ],
            [
             0.5555555555555556,
             "#d8576b"
            ],
            [
             0.6666666666666666,
             "#ed7953"
            ],
            [
             0.7777777777777778,
             "#fb9f3a"
            ],
            [
             0.8888888888888888,
             "#fdca26"
            ],
            [
             1,
             "#f0f921"
            ]
           ]
          },
          "colorway": [
           "#636efa",
           "#EF553B",
           "#00cc96",
           "#ab63fa",
           "#FFA15A",
           "#19d3f3",
           "#FF6692",
           "#B6E880",
           "#FF97FF",
           "#FECB52"
          ],
          "font": {
           "color": "#2a3f5f"
          },
          "geo": {
           "bgcolor": "white",
           "lakecolor": "white",
           "landcolor": "#E5ECF6",
           "showlakes": true,
           "showland": true,
           "subunitcolor": "white"
          },
          "hoverlabel": {
           "align": "left"
          },
          "hovermode": "closest",
          "mapbox": {
           "style": "light"
          },
          "paper_bgcolor": "white",
          "plot_bgcolor": "#E5ECF6",
          "polar": {
           "angularaxis": {
            "gridcolor": "white",
            "linecolor": "white",
            "ticks": ""
           },
           "bgcolor": "#E5ECF6",
           "radialaxis": {
            "gridcolor": "white",
            "linecolor": "white",
            "ticks": ""
           }
          },
          "scene": {
           "xaxis": {
            "backgroundcolor": "#E5ECF6",
            "gridcolor": "white",
            "gridwidth": 2,
            "linecolor": "white",
            "showbackground": true,
            "ticks": "",
            "zerolinecolor": "white"
           },
           "yaxis": {
            "backgroundcolor": "#E5ECF6",
            "gridcolor": "white",
            "gridwidth": 2,
            "linecolor": "white",
            "showbackground": true,
            "ticks": "",
            "zerolinecolor": "white"
           },
           "zaxis": {
            "backgroundcolor": "#E5ECF6",
            "gridcolor": "white",
            "gridwidth": 2,
            "linecolor": "white",
            "showbackground": true,
            "ticks": "",
            "zerolinecolor": "white"
           }
          },
          "shapedefaults": {
           "line": {
            "color": "#2a3f5f"
           }
          },
          "ternary": {
           "aaxis": {
            "gridcolor": "white",
            "linecolor": "white",
            "ticks": ""
           },
           "baxis": {
            "gridcolor": "white",
            "linecolor": "white",
            "ticks": ""
           },
           "bgcolor": "#E5ECF6",
           "caxis": {
            "gridcolor": "white",
            "linecolor": "white",
            "ticks": ""
           }
          },
          "title": {
           "x": 0.05
          },
          "xaxis": {
           "automargin": true,
           "gridcolor": "white",
           "linecolor": "white",
           "ticks": "",
           "title": {
            "standoff": 15
           },
           "zerolinecolor": "white",
           "zerolinewidth": 2
          },
          "yaxis": {
           "automargin": true,
           "gridcolor": "white",
           "linecolor": "white",
           "ticks": "",
           "title": {
            "standoff": 15
           },
           "zerolinecolor": "white",
           "zerolinewidth": 2
          }
         }
        },
        "title": {
         "text": "hello world"
        }
       }
      },
      "text/html": [
       "<div>\n",
       "        \n",
       "        \n",
       "            <div id=\"05c197fd-3418-4583-bd66-a045fd13583c\" class=\"plotly-graph-div\" style=\"height:525px; width:100%;\"></div>\n",
       "            <script type=\"text/javascript\">\n",
       "                require([\"plotly\"], function(Plotly) {\n",
       "                    window.PLOTLYENV=window.PLOTLYENV || {};\n",
       "                    \n",
       "                if (document.getElementById(\"05c197fd-3418-4583-bd66-a045fd13583c\")) {\n",
       "                    Plotly.newPlot(\n",
       "                        '05c197fd-3418-4583-bd66-a045fd13583c',\n",
       "                        [{\"type\": \"scatter\", \"x\": [1, 2, 3, 4], \"y\": [4, 3, 2, 1]}],\n",
       "                        {\"template\": {\"data\": {\"bar\": [{\"error_x\": {\"color\": \"#2a3f5f\"}, \"error_y\": {\"color\": \"#2a3f5f\"}, \"marker\": {\"line\": {\"color\": \"#E5ECF6\", \"width\": 0.5}}, \"type\": \"bar\"}], \"barpolar\": [{\"marker\": {\"line\": {\"color\": \"#E5ECF6\", \"width\": 0.5}}, \"type\": \"barpolar\"}], \"carpet\": [{\"aaxis\": {\"endlinecolor\": \"#2a3f5f\", \"gridcolor\": \"white\", \"linecolor\": \"white\", \"minorgridcolor\": \"white\", \"startlinecolor\": \"#2a3f5f\"}, \"baxis\": {\"endlinecolor\": \"#2a3f5f\", \"gridcolor\": \"white\", \"linecolor\": \"white\", \"minorgridcolor\": \"white\", \"startlinecolor\": \"#2a3f5f\"}, \"type\": \"carpet\"}], \"choropleth\": [{\"colorbar\": {\"outlinewidth\": 0, \"ticks\": \"\"}, \"type\": \"choropleth\"}], \"contour\": [{\"colorbar\": {\"outlinewidth\": 0, \"ticks\": \"\"}, \"colorscale\": [[0.0, \"#0d0887\"], [0.1111111111111111, \"#46039f\"], [0.2222222222222222, \"#7201a8\"], [0.3333333333333333, \"#9c179e\"], [0.4444444444444444, \"#bd3786\"], [0.5555555555555556, \"#d8576b\"], [0.6666666666666666, \"#ed7953\"], [0.7777777777777778, \"#fb9f3a\"], [0.8888888888888888, \"#fdca26\"], [1.0, \"#f0f921\"]], \"type\": \"contour\"}], \"contourcarpet\": [{\"colorbar\": {\"outlinewidth\": 0, \"ticks\": \"\"}, \"type\": \"contourcarpet\"}], \"heatmap\": [{\"colorbar\": {\"outlinewidth\": 0, \"ticks\": \"\"}, \"colorscale\": [[0.0, \"#0d0887\"], [0.1111111111111111, \"#46039f\"], [0.2222222222222222, \"#7201a8\"], [0.3333333333333333, \"#9c179e\"], [0.4444444444444444, \"#bd3786\"], [0.5555555555555556, \"#d8576b\"], [0.6666666666666666, \"#ed7953\"], [0.7777777777777778, \"#fb9f3a\"], [0.8888888888888888, \"#fdca26\"], [1.0, \"#f0f921\"]], \"type\": \"heatmap\"}], \"heatmapgl\": [{\"colorbar\": {\"outlinewidth\": 0, \"ticks\": \"\"}, \"colorscale\": [[0.0, \"#0d0887\"], [0.1111111111111111, \"#46039f\"], [0.2222222222222222, \"#7201a8\"], [0.3333333333333333, \"#9c179e\"], [0.4444444444444444, \"#bd3786\"], [0.5555555555555556, \"#d8576b\"], [0.6666666666666666, \"#ed7953\"], [0.7777777777777778, \"#fb9f3a\"], [0.8888888888888888, \"#fdca26\"], [1.0, \"#f0f921\"]], \"type\": \"heatmapgl\"}], \"histogram\": [{\"marker\": {\"colorbar\": {\"outlinewidth\": 0, \"ticks\": \"\"}}, \"type\": \"histogram\"}], \"histogram2d\": [{\"colorbar\": {\"outlinewidth\": 0, \"ticks\": \"\"}, \"colorscale\": [[0.0, \"#0d0887\"], [0.1111111111111111, \"#46039f\"], [0.2222222222222222, \"#7201a8\"], [0.3333333333333333, \"#9c179e\"], [0.4444444444444444, \"#bd3786\"], [0.5555555555555556, \"#d8576b\"], [0.6666666666666666, \"#ed7953\"], [0.7777777777777778, \"#fb9f3a\"], [0.8888888888888888, \"#fdca26\"], [1.0, \"#f0f921\"]], \"type\": \"histogram2d\"}], \"histogram2dcontour\": [{\"colorbar\": {\"outlinewidth\": 0, \"ticks\": \"\"}, \"colorscale\": [[0.0, \"#0d0887\"], [0.1111111111111111, \"#46039f\"], [0.2222222222222222, \"#7201a8\"], [0.3333333333333333, \"#9c179e\"], [0.4444444444444444, \"#bd3786\"], [0.5555555555555556, \"#d8576b\"], [0.6666666666666666, \"#ed7953\"], [0.7777777777777778, \"#fb9f3a\"], [0.8888888888888888, \"#fdca26\"], [1.0, \"#f0f921\"]], \"type\": \"histogram2dcontour\"}], \"mesh3d\": [{\"colorbar\": {\"outlinewidth\": 0, \"ticks\": \"\"}, \"type\": \"mesh3d\"}], \"parcoords\": [{\"line\": {\"colorbar\": {\"outlinewidth\": 0, \"ticks\": \"\"}}, \"type\": \"parcoords\"}], \"pie\": [{\"automargin\": true, \"type\": \"pie\"}], \"scatter\": [{\"marker\": {\"colorbar\": {\"outlinewidth\": 0, \"ticks\": \"\"}}, \"type\": \"scatter\"}], \"scatter3d\": [{\"line\": {\"colorbar\": {\"outlinewidth\": 0, \"ticks\": \"\"}}, \"marker\": {\"colorbar\": {\"outlinewidth\": 0, \"ticks\": \"\"}}, \"type\": \"scatter3d\"}], \"scattercarpet\": [{\"marker\": {\"colorbar\": {\"outlinewidth\": 0, \"ticks\": \"\"}}, \"type\": \"scattercarpet\"}], \"scattergeo\": [{\"marker\": {\"colorbar\": {\"outlinewidth\": 0, \"ticks\": \"\"}}, \"type\": \"scattergeo\"}], \"scattergl\": [{\"marker\": {\"colorbar\": {\"outlinewidth\": 0, \"ticks\": \"\"}}, \"type\": \"scattergl\"}], \"scattermapbox\": [{\"marker\": {\"colorbar\": {\"outlinewidth\": 0, \"ticks\": \"\"}}, \"type\": \"scattermapbox\"}], \"scatterpolar\": [{\"marker\": {\"colorbar\": {\"outlinewidth\": 0, \"ticks\": \"\"}}, \"type\": \"scatterpolar\"}], \"scatterpolargl\": [{\"marker\": {\"colorbar\": {\"outlinewidth\": 0, \"ticks\": \"\"}}, \"type\": \"scatterpolargl\"}], \"scatterternary\": [{\"marker\": {\"colorbar\": {\"outlinewidth\": 0, \"ticks\": \"\"}}, \"type\": \"scatterternary\"}], \"surface\": [{\"colorbar\": {\"outlinewidth\": 0, \"ticks\": \"\"}, \"colorscale\": [[0.0, \"#0d0887\"], [0.1111111111111111, \"#46039f\"], [0.2222222222222222, \"#7201a8\"], [0.3333333333333333, \"#9c179e\"], [0.4444444444444444, \"#bd3786\"], [0.5555555555555556, \"#d8576b\"], [0.6666666666666666, \"#ed7953\"], [0.7777777777777778, \"#fb9f3a\"], [0.8888888888888888, \"#fdca26\"], [1.0, \"#f0f921\"]], \"type\": \"surface\"}], \"table\": [{\"cells\": {\"fill\": {\"color\": \"#EBF0F8\"}, \"line\": {\"color\": \"white\"}}, \"header\": {\"fill\": {\"color\": \"#C8D4E3\"}, \"line\": {\"color\": \"white\"}}, \"type\": \"table\"}]}, \"layout\": {\"annotationdefaults\": {\"arrowcolor\": \"#2a3f5f\", \"arrowhead\": 0, \"arrowwidth\": 1}, \"coloraxis\": {\"colorbar\": {\"outlinewidth\": 0, \"ticks\": \"\"}}, \"colorscale\": {\"diverging\": [[0, \"#8e0152\"], [0.1, \"#c51b7d\"], [0.2, \"#de77ae\"], [0.3, \"#f1b6da\"], [0.4, \"#fde0ef\"], [0.5, \"#f7f7f7\"], [0.6, \"#e6f5d0\"], [0.7, \"#b8e186\"], [0.8, \"#7fbc41\"], [0.9, \"#4d9221\"], [1, \"#276419\"]], \"sequential\": [[0.0, \"#0d0887\"], [0.1111111111111111, \"#46039f\"], [0.2222222222222222, \"#7201a8\"], [0.3333333333333333, \"#9c179e\"], [0.4444444444444444, \"#bd3786\"], [0.5555555555555556, \"#d8576b\"], [0.6666666666666666, \"#ed7953\"], [0.7777777777777778, \"#fb9f3a\"], [0.8888888888888888, \"#fdca26\"], [1.0, \"#f0f921\"]], \"sequentialminus\": [[0.0, \"#0d0887\"], [0.1111111111111111, \"#46039f\"], [0.2222222222222222, \"#7201a8\"], [0.3333333333333333, \"#9c179e\"], [0.4444444444444444, \"#bd3786\"], [0.5555555555555556, \"#d8576b\"], [0.6666666666666666, \"#ed7953\"], [0.7777777777777778, \"#fb9f3a\"], [0.8888888888888888, \"#fdca26\"], [1.0, \"#f0f921\"]]}, \"colorway\": [\"#636efa\", \"#EF553B\", \"#00cc96\", \"#ab63fa\", \"#FFA15A\", \"#19d3f3\", \"#FF6692\", \"#B6E880\", \"#FF97FF\", \"#FECB52\"], \"font\": {\"color\": \"#2a3f5f\"}, \"geo\": {\"bgcolor\": \"white\", \"lakecolor\": \"white\", \"landcolor\": \"#E5ECF6\", \"showlakes\": true, \"showland\": true, \"subunitcolor\": \"white\"}, \"hoverlabel\": {\"align\": \"left\"}, \"hovermode\": \"closest\", \"mapbox\": {\"style\": \"light\"}, \"paper_bgcolor\": \"white\", \"plot_bgcolor\": \"#E5ECF6\", \"polar\": {\"angularaxis\": {\"gridcolor\": \"white\", \"linecolor\": \"white\", \"ticks\": \"\"}, \"bgcolor\": \"#E5ECF6\", \"radialaxis\": {\"gridcolor\": \"white\", \"linecolor\": \"white\", \"ticks\": \"\"}}, \"scene\": {\"xaxis\": {\"backgroundcolor\": \"#E5ECF6\", \"gridcolor\": \"white\", \"gridwidth\": 2, \"linecolor\": \"white\", \"showbackground\": true, \"ticks\": \"\", \"zerolinecolor\": \"white\"}, \"yaxis\": {\"backgroundcolor\": \"#E5ECF6\", \"gridcolor\": \"white\", \"gridwidth\": 2, \"linecolor\": \"white\", \"showbackground\": true, \"ticks\": \"\", \"zerolinecolor\": \"white\"}, \"zaxis\": {\"backgroundcolor\": \"#E5ECF6\", \"gridcolor\": \"white\", \"gridwidth\": 2, \"linecolor\": \"white\", \"showbackground\": true, \"ticks\": \"\", \"zerolinecolor\": \"white\"}}, \"shapedefaults\": {\"line\": {\"color\": \"#2a3f5f\"}}, \"ternary\": {\"aaxis\": {\"gridcolor\": \"white\", \"linecolor\": \"white\", \"ticks\": \"\"}, \"baxis\": {\"gridcolor\": \"white\", \"linecolor\": \"white\", \"ticks\": \"\"}, \"bgcolor\": \"#E5ECF6\", \"caxis\": {\"gridcolor\": \"white\", \"linecolor\": \"white\", \"ticks\": \"\"}}, \"title\": {\"x\": 0.05}, \"xaxis\": {\"automargin\": true, \"gridcolor\": \"white\", \"linecolor\": \"white\", \"ticks\": \"\", \"title\": {\"standoff\": 15}, \"zerolinecolor\": \"white\", \"zerolinewidth\": 2}, \"yaxis\": {\"automargin\": true, \"gridcolor\": \"white\", \"linecolor\": \"white\", \"ticks\": \"\", \"title\": {\"standoff\": 15}, \"zerolinecolor\": \"white\", \"zerolinewidth\": 2}}}, \"title\": {\"text\": \"hello world\"}},\n",
       "                        {\"responsive\": true}\n",
       "                    ).then(function(){\n",
       "                            \n",
       "var gd = document.getElementById('05c197fd-3418-4583-bd66-a045fd13583c');\n",
       "var x = new MutationObserver(function (mutations, observer) {{\n",
       "        var display = window.getComputedStyle(gd).display;\n",
       "        if (!display || display === 'none') {{\n",
       "            console.log([gd, 'removed!']);\n",
       "            Plotly.purge(gd);\n",
       "            observer.disconnect();\n",
       "        }}\n",
       "}});\n",
       "\n",
       "// Listen for the removal of the full notebook cells\n",
       "var notebookContainer = gd.closest('#notebook-container');\n",
       "if (notebookContainer) {{\n",
       "    x.observe(notebookContainer, {childList: true});\n",
       "}}\n",
       "\n",
       "// Listen for the clearing of the current output cell\n",
       "var outputEl = gd.closest('.output');\n",
       "if (outputEl) {{\n",
       "    x.observe(outputEl, {childList: true});\n",
       "}}\n",
       "\n",
       "                        })\n",
       "                };\n",
       "                });\n",
       "            </script>\n",
       "        </div>"
      ]
     },
     "metadata": {},
     "output_type": "display_data"
    }
   ],
   "source": [
    "plotly.offline.init_notebook_mode(connected=True)\n",
    "plotly.offline.iplot({\"data\":[Scatter(x=[1,2,3,4],y=[4,3,2,1])],\n",
    "                      \"layout\":Layout(title='hello world')})"
   ]
  },
  {
   "cell_type": "code",
   "execution_count": 60,
   "metadata": {},
   "outputs": [],
   "source": [
    "import chart_studio.plotly as py\n",
    "import plotly.graph_objs as go\n",
    "import numpy as np"
   ]
  },
  {
   "cell_type": "code",
   "execution_count": 61,
   "metadata": {},
   "outputs": [],
   "source": [
    "N = 1000\n",
    "random_x = np.random.randn(N)\n",
    "random_y = np.random.randn(N)"
   ]
  },
  {
   "cell_type": "code",
   "execution_count": 62,
   "metadata": {},
   "outputs": [
    {
     "data": {
      "application/vnd.plotly.v1+json": {
       "config": {
        "linkText": "Export to plot.ly",
        "plotlyServerURL": "https://plot.ly",
        "showLink": false
       },
       "data": [
        {
         "mode": "markers",
         "type": "scatter",
         "x": [
          0.49666608790145206,
          0.5732829900027855,
          0.36208277497384583,
          2.0347208481654726,
          -1.0465084997582317,
          0.7007008842763838,
          0.3477868458318225,
          1.2294842782551778,
          -0.8802227693466843,
          1.3684515562383164,
          -0.09012935483152511,
          -0.20323911063525557,
          -0.9998875824045496,
          -0.7097594321126705,
          1.6863942027502885,
          -0.7790570082598792,
          -0.28217855225115895,
          0.5281778734165055,
          1.8477081558874893,
          -0.19423214369255482,
          1.1619719132498585,
          -1.363465210799115,
          1.6321325398678823,
          0.8603932429733263,
          1.3424158642797217,
          0.29031797372606044,
          0.19868366687250544,
          0.9165808741582103,
          -0.02836924929033722,
          -0.424425853665404,
          0.18968171953411847,
          0.3013040888072495,
          0.74844025702234,
          -0.7062520889541,
          0.6502860814734936,
          -1.2016999765395322,
          -1.348131047371953,
          1.030953654435377,
          -1.2516517136848528,
          -1.0871846145536304,
          0.4364135664808519,
          -0.3056460013827557,
          0.052870191830685136,
          0.3169535889271297,
          -1.4039209021234482,
          -0.7316015890987562,
          -0.1888780666836141,
          -0.14663628560978192,
          -1.0761633853730748,
          -0.27279839714614745,
          1.0339262366225401,
          1.1672150065352977,
          0.15084656096447016,
          -1.2080896677960948,
          0.36899083701332897,
          0.2040801419356628,
          0.21458658837784245,
          0.8230981514633579,
          0.06406025314326202,
          0.3942244869444546,
          -1.3817242299314993,
          0.9465098383636743,
          1.7401736987113394,
          0.4823451078129195,
          0.6103818283000859,
          0.16490373236598385,
          -1.3196593830376215,
          1.9825306079792755,
          0.21156548471532913,
          0.645713401482973,
          0.10056285717455883,
          2.188990836575713,
          1.5750516768946827,
          0.736426571057901,
          0.400244042236646,
          -0.2336432054206666,
          -0.8634181183334176,
          -0.0806464024945817,
          0.6361927394752129,
          -0.29097067999971726,
          -0.4919695326872475,
          0.38992109200663405,
          0.3463351364838696,
          1.076535683290135,
          -0.9125645106447832,
          0.7159689546145843,
          -2.057348056842449,
          1.736801664429544,
          -0.2908544406013069,
          1.6691853844132964,
          1.4894721744214923,
          1.066124088298806,
          -0.027098728100227523,
          -0.6999134173697006,
          -0.7648246595942377,
          0.30120761134227575,
          0.1478401117823443,
          0.3544456194335821,
          -0.6551051560396137,
          -0.16640184053760737,
          -1.170863661552128,
          1.5644914444415168,
          0.6844077314032762,
          -0.47468666996269293,
          0.5325014859509538,
          -0.3107672695385775,
          0.5853439312379738,
          -1.4250025000234465,
          1.6253071096524097,
          -0.5191605551232463,
          -0.49508479830811264,
          0.1754313182191046,
          -0.11780444775693787,
          0.9897295867833034,
          0.3994976387866692,
          0.10812426290010826,
          -0.7216094493510505,
          -0.06501949400571483,
          1.4332715318086908,
          0.3394583246499822,
          -1.6387336058608515,
          -0.08915783173711353,
          0.4658362314058959,
          2.500272156286705,
          0.19056559671277754,
          0.5203898096959758,
          -1.1194559723769988,
          0.4829526323229119,
          -0.8585014817911187,
          -0.9202565782241964,
          -0.6816031416246566,
          0.3163762459736948,
          0.49990144879202086,
          0.9689952087488015,
          -1.0928306468455065,
          0.8948664991518368,
          -2.1694882158849356,
          -0.8507858802080387,
          -0.1882186578846992,
          0.06085346772114455,
          -0.9298823491086724,
          -0.7591023129915597,
          0.13904192182758682,
          -0.7470381747391261,
          1.635388635452121,
          -0.8839595887117858,
          0.6951429930797169,
          -0.42800733026133675,
          -1.8610172289894853,
          -0.5435706980570865,
          -0.026185746967866384,
          0.6743410788974735,
          1.5181194131998084,
          -1.451313324266378,
          -1.5989554016142795,
          -0.4937934657581556,
          -0.9236714019796707,
          0.5469208453549811,
          1.3051602411751067,
          0.6081220332097015,
          0.49801552723617043,
          0.34553653699795894,
          0.7909562308642101,
          0.6563363466746603,
          0.747697083360997,
          -1.78216360593156,
          -0.3482884661867139,
          -1.0159152435003653,
          -1.3712469493249333,
          -1.5533582962250547,
          -0.16032532968205787,
          0.9732523870605233,
          -1.577948607944338,
          -0.9632129529202808,
          -1.4500918607271063,
          -0.03275542514686473,
          0.2842784087828847,
          -1.9890651517712723,
          0.5932783361011058,
          0.3715587493294618,
          1.3554681517374814,
          2.854702615284072,
          -1.64131848142378,
          0.010363614037713475,
          -0.7039489084128582,
          0.04108387684764171,
          1.3313247177546645,
          0.38694221672876583,
          0.4807567419231698,
          1.5140827890138706,
          1.7087979136752203,
          0.647306095465236,
          -0.7909207836124539,
          1.1577511425252534,
          -0.43851591358687453,
          2.4734893810033056,
          0.2765512963945294,
          0.6455752062229172,
          0.5152078049020544,
          0.8661356711463981,
          1.3838992657264386,
          1.3447426227897283,
          -0.6075575783430786,
          -1.9413769235421716,
          -0.6818262306569285,
          -1.872269291917224,
          -0.3181115956216235,
          2.364539498108573,
          -0.42730005560497347,
          0.1433117902396408,
          0.3698787634270714,
          -0.959714361668113,
          -0.6290072171447002,
          -1.1842660832939158,
          -0.3935389054936375,
          -1.8504821263715059,
          0.09997558082747245,
          -1.1512085363180011,
          -0.09896685514355961,
          0.13970663582847057,
          -1.6296672000440966,
          0.15864057224586653,
          -1.0849351719634475,
          0.9756312129247499,
          -1.159893052412486,
          0.15858915047383337,
          0.08267061275380423,
          -0.6423336185774647,
          1.6622119134883264,
          -1.737328661501939,
          -1.0619309782560047,
          0.26455411015851565,
          0.48934925011728453,
          -0.2165777809409655,
          1.7601262281084609,
          -0.5605312730227784,
          -0.8048569703763537,
          0.42763653323644624,
          1.4631814253025999,
          0.01340226438747766,
          2.2570755363384136,
          -0.03790026822014475,
          0.16418343970640611,
          0.6255673823703177,
          0.9808140636700968,
          0.348788602584002,
          0.10648699190427044,
          0.8576885652019972,
          2.678075401547502,
          0.45364489192207685,
          0.30886446989944166,
          -1.626077518737252,
          -0.7052741860417255,
          -1.2110106211453215,
          -2.4125179702262898,
          -1.8119897213854124,
          1.6300459139414714,
          -0.6921166567798499,
          1.4036594713632597,
          0.7535669874788148,
          -1.248492856237395,
          -0.6486536065987335,
          -0.9281281199023785,
          0.5941632537462666,
          0.6596295100146157,
          -0.6551688981545645,
          0.696606638286216,
          -0.6534295557661882,
          -1.393182737984479,
          -0.3052731415428118,
          0.45284258402568595,
          -0.778065443635362,
          0.48111428324926225,
          0.5261365098122971,
          -1.1012493663617393,
          -0.8595490631797524,
          -1.1220608686681368,
          0.4580455006500123,
          -0.38312559026199544,
          1.931388934860875,
          0.7490971649288176,
          -1.4032771582931154,
          -1.2155194359835177,
          0.5090801526484945,
          0.4576700797942806,
          -1.7689103193478346,
          0.09474642495992613,
          0.820072152869246,
          2.0239757279661537,
          0.7014052350576698,
          -1.2633933454384596,
          -1.1494277970074416,
          1.3700434152700087,
          0.22457585442920036,
          0.7995457177855494,
          -0.1833977011053502,
          0.12826328277214785,
          0.4168570459251067,
          1.8116126456590589,
          2.206373787574695,
          0.9675995703491141,
          0.621311472061103,
          0.38647127368932055,
          1.527533163620668,
          -0.26300193278107664,
          -0.098751470226064,
          0.734929304649509,
          -0.3572577689423134,
          0.42714447244468423,
          0.4531931187721499,
          -1.2554416055812567,
          -1.4532763601592973,
          -0.690888112800922,
          -0.4787116503249505,
          1.3620477546489747,
          0.9730607359905542,
          0.24166526531906188,
          0.35852857329588966,
          -0.12098830451668424,
          -1.1816185746704506,
          0.5423027370233076,
          -0.15983573702716797,
          -0.18237743240493082,
          1.2207719461551023,
          0.8134580558043848,
          0.957470728937488,
          0.9413875988138452,
          -1.317415667429016,
          -1.4763226747988392,
          -0.544995985206788,
          -0.1648386052390375,
          -0.5649452493292506,
          -0.9539267587535009,
          1.7371216514978898,
          0.7548721374377149,
          -1.2905965981530603,
          -1.5271908605078433,
          -0.2979581005956464,
          -0.15897551020435896,
          1.3256421599887351,
          -0.32245180850092836,
          0.5770561384550278,
          0.7427180720360227,
          0.8269294478565822,
          -0.23139244691373081,
          -1.3488877490935018,
          -1.0723940321188246,
          -0.01101960173393374,
          -0.47536914628665305,
          0.7091668478376392,
          -0.04900151937255222,
          -0.8551323374923091,
          -1.4341241909657292,
          -1.2742223698538382,
          1.2670865571394596,
          -1.4194800063743032,
          -0.45426593784897346,
          -1.5801885156004147,
          -0.4626867124302875,
          -1.2108452462746844,
          0.5911506012202482,
          0.5603761798218269,
          -1.3662840186604268,
          -0.2921164603107537,
          1.2236686723853385,
          0.8463924039876787,
          -1.405886335239479,
          0.7511681973070428,
          -1.0385504580917133,
          1.051782592202769,
          -0.28603386115295715,
          1.5866221665908018,
          -0.4270238867537863,
          1.8984083774601637,
          -0.2176895276438961,
          1.323997275979677,
          -0.025571323743515378,
          0.822941016724426,
          0.3111333665112365,
          -2.1884752655611868,
          0.46974977426116094,
          0.6921374988373793,
          -0.4002015417764511,
          0.07168784454828794,
          0.24976413510829146,
          -0.9788580630312708,
          -1.7877445323613839,
          0.6447596322806098,
          0.4343520990437527,
          -1.0247213695222654,
          -0.44519398829207296,
          0.8297983185950525,
          0.1203301747821874,
          0.2683863872615633,
          0.7597925066387599,
          1.3543344948971656,
          1.3864154750136204,
          0.3631271769152098,
          0.42903472393968717,
          0.7200311032761865,
          -0.41749429959452705,
          -1.1840210276857877,
          -0.9216972468388174,
          -1.443572708204449,
          0.23959172644296722,
          0.36683833324719256,
          -0.004737934951219442,
          1.3245143536175736,
          1.1395893711244116,
          0.23835201731801406,
          -1.0964823254151599,
          0.045087362074649855,
          -2.53844554205366,
          0.4704111450779397,
          2.2141671371971907,
          0.7017667301058282,
          0.18135179274639804,
          0.842175791779217,
          0.4616521641927657,
          1.0974237514693093,
          -0.3896506390947798,
          1.5525346585017938,
          2.0978831543875374,
          -1.4991261935899598,
          -1.8028906030877776,
          -0.29224370022704665,
          -0.5029233009970446,
          0.35460017493851825,
          -0.31742025018341846,
          -0.6885261579130145,
          -0.5201805609133491,
          -0.16198213768593214,
          0.4724553371767593,
          0.993792322591054,
          -1.186781496263394,
          0.6420207790625669,
          0.33505970472165103,
          -1.954006003077152,
          0.9191493525960318,
          1.7005780529679313,
          0.42590537982813986,
          0.4646138597630604,
          -0.07738180956351375,
          -1.0498529178346687,
          -1.4056125892297557,
          0.285177659664183,
          -0.6492739239562672,
          0.5012995227161157,
          0.03528509377059725,
          0.56883448098645,
          -1.4784398626246076,
          1.6123190003290375,
          0.43522196827199283,
          -0.6486062908605408,
          0.7478443587430036,
          -0.9267766545985321,
          0.45348182371624274,
          -0.28644722113680454,
          -1.5095931177363613,
          -0.3178585864699821,
          -0.20668615320661607,
          -0.6128487388586769,
          -0.03541340230951404,
          -1.187725784471371,
          1.0801992315724553,
          -1.2728973184623869,
          -1.3620669866803483,
          1.456591395135262,
          0.7167271475324386,
          0.41626208934572745,
          -0.2566175159857753,
          -0.9008430837948269,
          -1.5689586582374904,
          -1.4181982273171867,
          -0.42993705005313165,
          0.13476915711561666,
          -0.12875199094137524,
          0.5097891123161852,
          0.11602207764627397,
          -0.7408594187362925,
          -1.6891650536157548,
          -1.3754936700426714,
          -2.8593380902642624,
          -1.0612721148964024,
          0.07167798668814146,
          -0.8522291027920843,
          -0.028144269975634264,
          0.22678782525334365,
          1.8265147798057308,
          0.07914256663701637,
          0.2543027131239726,
          0.5149601837561824,
          0.47869574193770864,
          0.0061473439032015695,
          0.9514705366547868,
          0.6927578279013009,
          0.9702803920733466,
          0.30701576578597495,
          0.0868377235115945,
          1.389168649193433,
          -2.154236041844799,
          -1.9032480468406092,
          1.8263403055034513,
          0.7547913115937559,
          0.07481797641149042,
          1.2308691187259984,
          0.47972459672366247,
          1.2828688453334005,
          -0.10365862507168307,
          0.9861483926780816,
          -0.13513563649408883,
          -0.025266122141270685,
          -0.06212777744352586,
          -0.2609503651553538,
          -1.0854584018779998,
          -0.7788693742809372,
          0.2754225250722109,
          -0.9021176730875247,
          -0.16779081148214336,
          -1.865558653349293,
          1.6909582160661958,
          2.133017088220338,
          -0.8883485197002401,
          -1.3245796188461318,
          1.3391928564249487,
          0.44715038975490257,
          -0.5603005927559171,
          -0.6206549538819605,
          -1.623274463633294,
          -1.7892640946031106,
          -0.34875593039395963,
          1.4515778729597733,
          0.1580158715789384,
          0.655294215421494,
          0.23007860252913043,
          0.1823622573998666,
          1.0672902405479652,
          2.221974640079927,
          1.2882309379881849,
          -1.2738196079551065,
          0.9920155134900143,
          -0.3451226949602493,
          -0.8369295638889238,
          0.5171538778532746,
          -1.850513793888751,
          1.889269116574189,
          0.4935652748171501,
          0.16582137285802934,
          0.47225399789992495,
          -1.1522436136384444,
          -0.17131917790393816,
          0.3341031273362318,
          0.07283453126480131,
          -0.8985425689629961,
          0.2314768822434915,
          2.0717779581881075,
          -0.38250759421725355,
          0.5263778740023979,
          -0.35323590749001754,
          -0.22172740252899034,
          0.06776490038290407,
          -0.548326239932729,
          -0.6444409590659038,
          0.8744910546460369,
          -0.769584964708081,
          1.132326154953817,
          -0.6774620914015103,
          -0.6100907636747195,
          -0.022951742701992402,
          -1.8391563798626678,
          0.9138826470074117,
          0.292020825958337,
          0.9521511884037409,
          1.616541473571239,
          1.3296044939263916,
          -0.9419048056932856,
          1.4396656485313286,
          -1.001301801387992,
          0.8745933361335796,
          0.4210606888921136,
          0.1657081811227252,
          0.8882784177264995,
          -0.028557741551708718,
          0.28454087209374707,
          -0.4229995476437138,
          0.46809855563894315,
          1.438974925179592,
          -0.3390287972336153,
          1.2189723942100046,
          0.9762661906350324,
          1.8620970086739823,
          1.2442768843837884,
          1.2758194172922823,
          0.07976846769903131,
          0.021262340268646797,
          2.2457759733094314,
          -0.2862083553947644,
          0.300953756256243,
          0.6349699731318157,
          0.15148346355792533,
          -0.2818389901745855,
          0.4596859640958476,
          -0.6794985608388282,
          0.67755634223653,
          -1.7445225584969628,
          1.0020983514302613,
          1.005673554151056,
          0.8390406759039896,
          -0.7027087178851638,
          -0.7233995551662145,
          0.9206825679926604,
          -0.5938185757061484,
          -1.8547064428873714,
          1.6771675150018301,
          -1.5428814809125195,
          0.02803028440177921,
          0.4003840844436257,
          1.020351870114415,
          -0.5303999058097945,
          0.6633673998062966,
          -0.7839810674021377,
          0.15982345854301483,
          -0.7177117251893663,
          0.9738483116583333,
          -0.1746094341526425,
          -0.9834806993024772,
          1.2419679768422518,
          -1.1451740314483831,
          -0.7188966660746984,
          0.5785240821330997,
          1.2580051847335705,
          0.5501763714857405,
          -1.0416969652381756,
          0.6583511635213958,
          -0.655635126537503,
          -2.4061710025281156,
          1.101788995760916,
          -0.6046113791152282,
          0.813774109387274,
          -0.6230489764405931,
          0.05887020644331452,
          -0.5838361209372251,
          1.0972462880046407,
          -1.0776750711535448,
          0.43904033721628816,
          1.2756456557695655,
          -0.855446633503335,
          0.9386243216069032,
          -1.9551812365155243,
          0.41810656491958076,
          0.0760248669239318,
          1.3732169906022593,
          -0.601582361092383,
          -0.7355352514567299,
          -0.8544280668012918,
          -1.8755837220175622,
          1.03490898228827,
          -0.7011637649164248,
          -1.05246994284171,
          -0.37320548447927915,
          0.25504476978590224,
          2.1726791992748358,
          0.9280689482444339,
          1.4171044216768065,
          -0.5879639610291034,
          0.35263513921922957,
          -0.06033029433140734,
          -1.3665841301310884,
          -0.15050158052417772,
          -0.9635322773027843,
          -1.606111463392563,
          -1.4110605616898895,
          -0.7520446447027088,
          -1.2796622000634692,
          -0.8505430888316711,
          0.07750645669381359,
          -0.7031047781052878,
          -0.7756070839959062,
          -0.016798534557535667,
          0.4445744515401582,
          1.301439385012751,
          1.7237742200971455,
          0.7016109349933114,
          0.043455444884958574,
          -0.3122266649296652,
          0.6481524916019077,
          0.9971982619720253,
          -2.3590034742170967,
          1.6183799808045853,
          -0.5029720261105886,
          -0.9981539322879054,
          0.2270305826865697,
          1.2714829118369984,
          -1.305304770586956,
          0.9362326958887173,
          2.1233580801129177,
          -1.328188058605051,
          1.8671845211642328,
          -0.17588568296404428,
          -0.33422141316283843,
          -0.1456092870672366,
          0.3642013077154644,
          -0.7933699887710524,
          0.5557624921597076,
          -0.32793883425419745,
          -1.0269800138348901,
          -1.3312919756571384,
          1.1913916043649757,
          -0.7350468236543649,
          -0.7263573645597181,
          -0.7770892339092467,
          -0.9745402823206948,
          -0.42172201682257887,
          1.0423224825615816,
          1.6372943695625688,
          -1.0583219116253093,
          0.44718585337058964,
          -1.1419575534323059,
          -1.9195732885822812,
          0.47928303342874734,
          -0.18539891013401644,
          -0.026640117043482823,
          -0.8914709333764517,
          0.8108386394715532,
          0.27898054505668196,
          0.38085672539370696,
          -1.449357253244379,
          -0.23132162689200045,
          0.9869776907989322,
          -0.7370377181686832,
          -1.9709407457139447,
          -0.9923914452315206,
          2.2293118167817956,
          0.9679434556841194,
          1.3894818084505376,
          0.3018088738345622,
          0.9725209515200745,
          0.5018082003305666,
          -1.7284752361073108,
          -1.6120302758389333,
          0.879404024689635,
          -0.7578204091951068,
          -0.260931124456046,
          0.058349529191145194,
          0.36961639840450244,
          -1.058773144867004,
          -0.6111344232876648,
          0.6198106324660411,
          1.917245107888769,
          0.32243416361929644,
          -0.6539349150870248,
          0.6483379500773067,
          1.9670930759059364,
          0.032856483950135254,
          -1.296513008376409,
          0.6993803274407385,
          0.4866860809739812,
          1.401558870238427,
          -2.1734607957683942,
          -0.8746116130363656,
          2.3303012294524033,
          -0.11993596827822411,
          -2.044656976014064,
          -1.4736067213455601,
          -0.45041601293479955,
          -0.5318360708838584,
          -1.1270505075498114,
          1.1963615034960389,
          -1.0108113336778224,
          0.2957643070864696,
          0.0006387501927541832,
          -1.0347427826093587,
          0.5627419829323957,
          0.3080705874770884,
          -0.9345721754875899,
          -1.0904606184408985,
          -0.1330415786569938,
          2.5204554554896377,
          0.30606516912773357,
          -0.14200274674818933,
          0.5050515054972065,
          0.348307939917343,
          0.8771691481423985,
          -0.5149871554214318,
          0.46054020946287566,
          -0.5000885940158891,
          -2.0808707069846153,
          -1.728715650467723,
          -0.2562897027658789,
          -0.2215436477320775,
          0.46098612501973874,
          -1.248360145981264,
          -0.8492681282906022,
          -0.3432612506336726,
          -0.4307384516859751,
          0.18152400134233018,
          -2.02070455119681,
          0.7120396153920143,
          0.8264498759623802,
          -0.1545780795443711,
          -0.6196067005665039,
          1.2322622149506628,
          1.4076994298909336,
          0.08537075890259439,
          -0.23980294142992986,
          -0.12315199532841405,
          1.271728463929459,
          -0.6983605336245255,
          0.4263153544244924,
          -0.9729153820550441,
          0.7734987333713694,
          -0.5722640539560504,
          1.337356822535977,
          -0.05224844131476833,
          -1.252774608368493,
          1.632333272037251,
          1.843047729896106,
          0.967749189498261,
          -1.5961464585872223,
          -0.635570959883086,
          0.4673347943455417,
          1.2749303024506033,
          0.46317421432769956,
          1.4705060249282875,
          0.6608471884028256,
          -0.9411312606390583,
          0.1743553115115813,
          0.3701136592372535,
          0.4623464590233663,
          0.495730255049853,
          0.6377226135195618,
          1.1113381287375572,
          1.4914595398211725,
          0.8116598445261388,
          -0.07608557236519792,
          0.34993642727683955,
          0.348028323249053,
          0.3352050930741249,
          -0.6213466652264402,
          1.455653097909634,
          0.7376159765366945,
          0.45253097880622073,
          0.052387465701493656,
          0.21553576364399146,
          -0.5902337887672527,
          0.5938205344899364,
          -0.24217035359921887,
          0.3767365501813968,
          0.03590000226345173,
          0.21086696702365845,
          0.215486017172464,
          0.8632488017531327,
          0.3709941094856658,
          -0.4932315177535547,
          -1.2477210930461453,
          0.8728943387822813,
          -1.4760813814610583,
          0.707700238578848,
          1.4146030990047835,
          0.2007760890204209,
          -0.9221734322350756,
          0.25782702741393276,
          0.8490913724272017,
          -0.9572805087818339,
          -0.7802638513951418,
          0.459039448554899,
          -0.973608843950284,
          0.43195590531077765,
          0.573609264488968,
          0.7342478276644648,
          -0.7820543098292513,
          0.07642533971170423,
          0.08444871513069568,
          1.5061400410539838,
          1.4609839289679754,
          0.772217071485823,
          -1.0695897685448588,
          -0.2665438221731988,
          -1.728622649229529,
          -1.9825514938067978,
          0.03731528387763809,
          0.4581834276753714,
          0.23290412879485595,
          0.0821837064415753,
          -0.03485799645611814,
          -0.3042243643063847,
          -0.2050343244347882,
          -0.2747717000068927,
          0.5416968889394365,
          -0.5622287641679319,
          -0.9621081247568446,
          0.21034747044852484,
          -0.586801674046788,
          1.0203022258510823,
          0.7985557644621903,
          -1.2522628021223159,
          -0.43500474274144457,
          -1.2847532032176496,
          -0.6206621752200703,
          -0.02927428329920929,
          -0.8425350953081902,
          2.65222488670888,
          -0.8679403514460752,
          -0.12014971822490308,
          0.12472037234831969,
          0.663020094777846,
          1.4196614623663248,
          1.978522139470681,
          -0.9267907587875377,
          -0.04762121937509871,
          -0.2061650072291421,
          -0.8895804939396468,
          0.3577888379596171,
          -0.6198009060468783,
          0.5827692309991833,
          0.5956899018791763,
          1.848153429409908,
          0.47475577281486736,
          -1.4447662433937372,
          0.6089979539944768,
          -1.8770222426035705,
          2.1137588521082447,
          0.20553021869382523,
          0.2556633232287561,
          0.6875670325608189,
          -1.2703627969840696,
          -0.10524688558908202,
          0.6255510799391926,
          0.6657712926023783,
          -0.3228368106901611,
          -0.3169748247942009,
          -0.4070693871232637,
          0.8099685406790301,
          -0.9492115113311463,
          0.014976285614108352,
          -1.4744621330492713,
          0.03540839217257503,
          0.9436293556826958,
          -0.799248892572342,
          0.6489912101434644,
          -0.1176905704899906,
          -0.3000134642406827,
          0.16860256215228453,
          0.7850010907073911,
          0.2648539178754603,
          0.35259627105301744,
          -1.7425252912136686,
          -0.5847796585715281,
          -0.27866593769669235,
          -0.1466120914478576,
          0.6193895410834594,
          -0.9001600660996437,
          -0.23928709878484128,
          1.34040202873234,
          -0.2138004025426723,
          -0.9183615873161399,
          0.2025001993037366,
          -0.6030119534242201,
          -0.9510505996859785,
          -0.6368691026124573,
          -1.642950336324266,
          -0.6809747324509879,
          -0.9510387613761793,
          1.394430095576424,
          -0.12400801625498917,
          1.4423778269725702,
          -0.6926621039913674,
          -1.1842713871793642,
          1.3391010534540477,
          -0.23900096565421833,
          0.03626758988334994,
          1.163731091291753,
          -0.5736627829544084,
          0.09882031168956715,
          -0.19169737979920318,
          0.5951374789609978,
          -0.6618348039722795,
          -0.39043300153136384,
          -0.1488317189178935,
          1.4252423705668746,
          -0.8551244015479927,
          0.46509984810572874,
          0.49939596380872414,
          -0.040858460443134334,
          -0.09661278818412815,
          -0.33804682195754515,
          -2.2626154055908523,
          0.03843667360339573,
          0.12044693887242656,
          0.5130040480543808,
          -0.8634284343734917,
          -0.5886740349728299,
          1.5823226663089054,
          0.17328712436228694,
          -0.27933422680043823,
          0.08384790926687571,
          0.7680905222939088,
          0.01792161532022032,
          -1.0851559893858365,
          -0.06207097993779694
         ],
         "y": [
          -0.6399020342277307,
          0.08921533973420999,
          -0.020777874555482682,
          -2.63686227147256,
          1.4328627138678076,
          0.7190458126215103,
          1.6476533320893247,
          1.0686179521418009,
          -0.19950843566083998,
          -0.31739418431846983,
          0.7970981661613186,
          -0.49856008651989675,
          0.7881452951937471,
          -0.3481095614144306,
          -1.5747315486758995,
          -0.3815299985942881,
          -0.5864269210826948,
          -1.2784386859452832,
          -0.9277844652939328,
          0.006633395618785801,
          0.5918552030011894,
          -0.6117421901242026,
          -0.3919809128907897,
          -0.18536124535596138,
          -1.9859504348348767,
          -0.33690034450330825,
          -1.2177196336232115,
          -0.2344001197532426,
          -0.8261889646710793,
          -0.14299815350813339,
          -0.1914058302886367,
          -0.28686986798597347,
          -0.4442587289522388,
          -2.115616897268811,
          -1.3468007668721638,
          0.5032925147791311,
          -2.58536718941303,
          -0.22471441493861355,
          -0.12469853578234713,
          1.0666666251198005,
          1.139437110369172,
          0.4607759539988472,
          0.3802221969265871,
          -1.1442713735176584,
          0.017937991805499588,
          1.3436177251614738,
          0.40497882372630456,
          -0.48405410504591123,
          -0.2846842080150375,
          0.6838508830588654,
          -1.347864974022556,
          -0.14318268138345353,
          0.07317021450119592,
          -1.1958856571358099,
          -1.5769259215225746,
          1.2970619978183666,
          -1.2556182112141843,
          -0.022123633476631543,
          -0.08749643336282568,
          0.20760476440898046,
          -0.1811884910313975,
          0.3700786849141358,
          0.9095511383999155,
          0.0003628128103790071,
          1.8452226857071352,
          0.789408507604333,
          2.3809738880829032,
          0.7783026473467693,
          0.0760305200592497,
          0.356197982945094,
          0.40029560293472416,
          1.6456144145694473,
          -1.2746456339648886,
          -0.41519571753359413,
          0.5152807969946446,
          0.9422109852421998,
          0.16519448698442266,
          -0.09010521972927457,
          -0.4979183397246828,
          -0.9950220627080109,
          0.04042001586818899,
          -0.6910085463298495,
          0.7836123758278446,
          -2.825988990560648,
          1.8852626184567147,
          -0.7315799612725326,
          0.1251560389322506,
          1.1779062814658015,
          0.766108861714757,
          0.45859612571086456,
          0.6158957229395225,
          -2.2440134039076547,
          0.09610525999526512,
          -1.4837383950866219,
          0.14388205000831433,
          -0.06083207606340486,
          -0.6502509437084973,
          -1.6845283298680576,
          0.5770803913982339,
          1.1862553460767677,
          0.9283932862807008,
          -1.1647616545325368,
          -0.5895071850241108,
          -0.8046498023002057,
          -0.30943291098575826,
          -0.694709835217831,
          -0.6353758244141021,
          -0.5438355292362566,
          -0.513887355873436,
          0.37924341784972526,
          1.092804468345841,
          0.2885993055523018,
          -1.2730538390827695,
          -1.3063014844596401,
          -0.025348485232871188,
          0.33357001645507134,
          -0.07493802143005067,
          -0.9462773800122095,
          2.0359221784549324,
          0.6762208176509166,
          -0.5500181466791397,
          -1.0991706200485742,
          -1.0633564083915152,
          0.5342057423188282,
          -0.11629451719558559,
          0.014560266166343948,
          -0.6441593732009587,
          -0.38348868469124464,
          -0.24780533281394704,
          -0.1937700601510234,
          -0.8936123961936873,
          1.7609189326092332,
          0.59991639749472,
          0.06916551970513732,
          -1.9086813881798366,
          0.10702962283904295,
          -0.7284477255730476,
          -0.2162926731627906,
          -0.3341257114948095,
          -0.05613812822443727,
          -0.5462402118110157,
          -0.0385906948835183,
          -0.45119489644613564,
          0.8516805920235149,
          -1.4694314932438282,
          -0.46271046412621575,
          1.1534092276959773,
          1.163246700532836,
          0.03573695914714377,
          -0.48991364551503847,
          -0.2461841397768292,
          -1.057441221830265,
          2.4213682235219096,
          -2.2024121202627716,
          0.6845362929906368,
          0.14787201734136216,
          0.5785386690072105,
          -0.4986822105087505,
          -1.3591677791576169,
          1.208005823247042,
          0.4210244484298995,
          -0.9434925613323994,
          2.104100466060616,
          0.6406494731304145,
          0.2153027241404445,
          0.662201266180719,
          1.4291425008816165,
          0.29612126696428076,
          -1.029162479470198,
          -0.7924315007802685,
          0.020378091956623493,
          0.35393974154264846,
          -0.7241234479229156,
          2.27886715396866,
          0.4215317719186701,
          -2.36177773401116,
          0.6977573493935894,
          0.7841984201393616,
          0.7314857262206446,
          -2.335336855595729,
          -1.619193672347819,
          -1.3025596277321771,
          -1.4526838853800719,
          -1.1141545706572153,
          1.1064895970567954,
          -0.062316170499035456,
          1.8711082378038697,
          -0.8323150249880623,
          0.8256186095717667,
          -0.219396042350499,
          -1.537343722253097,
          -1.0141113138170479,
          -0.7161389994963441,
          -1.3147656975097834,
          1.3749437325300295,
          -1.1139329556131612,
          1.2288343998518714,
          -0.7872669230143002,
          0.11131080088212782,
          -0.9719304141976427,
          -2.178059206423073,
          -0.17481510348559662,
          0.6553020963193239,
          -0.6871990715873127,
          0.6556317356225364,
          -1.0039828014577588,
          -0.9131109313570469,
          -0.45133926140451525,
          -1.9928901544024837,
          0.2119148764780596,
          0.6799822822460287,
          0.6500311959011484,
          -1.0286522394064477,
          1.713572316415558,
          -0.5316148160699232,
          1.1527321342425942,
          -0.2010230266179117,
          -0.1014504335404146,
          -0.27375630399850726,
          -1.1755857886159506,
          -1.324584053759126,
          -0.45365393377171404,
          0.7159169276744652,
          -0.3226952707351352,
          0.7399057658829258,
          -0.3943385991247101,
          0.0524287553199784,
          -0.20633762706641343,
          0.09070097470591762,
          0.46108483232786934,
          0.5291355823994204,
          -0.8684327802201477,
          -0.4643210940322914,
          0.9860823403790546,
          -0.2311086740648447,
          -0.5486228611264541,
          -0.9207599336258281,
          0.16566363122367164,
          -0.0060346774509574585,
          0.2772177913704708,
          0.6715283760582411,
          0.5931388478948935,
          2.1585558514578174,
          -0.7573816635623838,
          1.5616310878951571,
          -0.1300727698512785,
          -1.0127056607594667,
          -0.12283883294751868,
          -0.7296265133452158,
          -0.15627812161171367,
          0.5661965238532121,
          0.29809813174716626,
          0.5909223890682621,
          -0.06070071921876758,
          2.5148824426038723,
          -0.0621858785437625,
          1.3037423864693205,
          0.17412439292654477,
          0.6244147281640678,
          0.2337148390945855,
          -0.8637913599796404,
          -0.4422773855184026,
          -0.5503314782657357,
          -2.7709720509926905,
          -1.744353971590402,
          -1.34659422804291,
          0.17688550726066182,
          -0.8810177762049678,
          0.8287118772752313,
          1.8461215602372458,
          -0.045877590013863066,
          -0.7611921935334124,
          1.850112813576419,
          1.7998973970264298,
          0.5943123444242348,
          -0.7791579020102885,
          -0.039354819562460445,
          0.019068936261542647,
          -0.9822761905295706,
          0.08903436441068967,
          1.8209618229760642,
          0.24011549308995073,
          1.8725986502857361,
          0.5946216778993125,
          0.7917871242339045,
          0.6646534860478222,
          0.7057833009339225,
          -1.1069105195825963,
          0.2165819374257467,
          -1.026729643268043,
          0.4515876229417731,
          3.352377153947036,
          -0.6964697549147176,
          0.4836341684575837,
          0.9382613814542503,
          -0.3273272432243994,
          -0.11108953743208817,
          0.12869152266793393,
          0.46232001567059694,
          -1.149174107452531,
          1.6800835555114157,
          0.25805278896300693,
          -0.009833052840124777,
          0.6243155645921636,
          0.10147048707478042,
          -0.5360518541758011,
          0.4382078154801342,
          -2.0755738101402077,
          -0.13994607572850593,
          0.7628701459673661,
          -0.13076362680255754,
          -0.35238564076226486,
          -0.5263331651888267,
          0.4319912493349127,
          -1.1832751309273837,
          0.4464423690652152,
          1.372401061636921,
          1.7227729639932396,
          -0.6680206951162567,
          0.28262529149897364,
          0.7819739943536973,
          0.38098100898673665,
          1.0228964434446501,
          0.08098146477206439,
          0.2302856054419983,
          0.9252658087041598,
          -1.6080070048876196,
          0.08922529329049009,
          -1.7280585952293848,
          0.30476321990063193,
          -0.17075409383564452,
          0.05121486801297731,
          1.883372497361731,
          0.3225133622521196,
          -0.772484334694606,
          0.2959627559274769,
          -0.3574511799866274,
          1.474271212672951,
          -1.2766813205930327,
          1.7862055777727985,
          -0.8697268202858254,
          1.2821808826516985,
          0.5394772991183285,
          0.5703659320530329,
          -1.4970648694437998,
          0.3392424008584696,
          -0.17835389138070257,
          -1.8801865562597146,
          0.07163221531957305,
          0.5201331477649619,
          0.2890865478318642,
          -0.32961938825834847,
          -0.31465568548591594,
          -0.9335336378083208,
          0.3703282869938344,
          -0.3612776416084458,
          0.44316183242628415,
          2.0710101733839568,
          -0.045604068934376844,
          0.3104827927856044,
          -0.5587458688060879,
          -1.2225009518235064,
          -0.1502375677404276,
          1.2193894180227502,
          -0.5250899946256028,
          -1.299174044664043,
          0.48010915351897215,
          0.7199808192720683,
          -0.35116005012806856,
          -0.5020469301480927,
          -0.7381247935598864,
          0.17452358145572658,
          -0.48808462640665157,
          -1.263082786377668,
          -2.4994945009009695,
          2.3394266717208265,
          -0.7977883716098898,
          -0.2683463951128855,
          -1.0769598927734179,
          -0.8685635352082705,
          0.5263355373347716,
          -0.1361709315603729,
          -0.8758075616564339,
          0.7839492135097539,
          0.22348411466150025,
          0.2158809210984884,
          0.5272092160989916,
          -1.2325110654992752,
          -0.04685567877851747,
          -0.5069753750460263,
          -0.8714965883499682,
          0.2837999858836108,
          0.14638600179424902,
          -0.5712013989083318,
          2.535787663064741,
          -0.15815336250730466,
          -0.5089101608394141,
          -0.4749755400224811,
          -0.12184719252517429,
          -1.1357800342796205,
          -1.2079949707493456,
          0.16975694546251,
          0.6980798222169557,
          -0.28861750364133437,
          -1.3991067719097883,
          -1.9955697074383718,
          0.7124128978805796,
          1.5760788539477042,
          0.836525427188992,
          -0.4877225736652194,
          0.08678335825675877,
          -0.3983615178937491,
          -0.3481564096522851,
          0.550004701198834,
          -1.1432791038347518,
          1.230697544895052,
          1.5759262883195468,
          -0.27277878145704004,
          0.5371418918913486,
          -1.490900346732646,
          1.0980187399090582,
          -1.1935959770463997,
          1.1647034599888628,
          0.9571914731036955,
          -0.35590737864685285,
          0.7957765408249555,
          0.7145233373458881,
          0.3318236592239249,
          -0.3702839814097415,
          0.15654553332365678,
          0.19679872383489289,
          -0.5206012178342051,
          -0.4108098292547568,
          0.2924923848564822,
          0.3467003766130063,
          -0.29598575907578717,
          -0.5587997368827757,
          2.196745307804851,
          -0.028979353232714652,
          -0.2811075479225673,
          -0.5178922117702569,
          0.3725684849804023,
          -0.847748937141972,
          0.9584104498411417,
          -0.46416254692207287,
          -0.08164107408587071,
          0.9141619850381238,
          -0.8627409295722785,
          -0.28486162401006004,
          0.15369973405867807,
          -0.16602320067564857,
          0.33197047522710793,
          3.039185533477165,
          0.20854591986153653,
          0.3120467166830447,
          0.9918989622254901,
          -0.28060725021999694,
          -0.43373263001498275,
          0.629664345801316,
          1.3502747169512064,
          0.46710183134888966,
          0.15934126573162496,
          0.15702938596836463,
          2.148690030997575,
          -0.5568853955858781,
          -1.1440974458316147,
          0.4484702180859286,
          0.4245949006531221,
          0.5062483593561866,
          0.6675089668166153,
          0.09561899244227368,
          0.13401293389043897,
          2.437806922520676,
          2.850764509518814,
          -1.7237838728404271,
          0.3896221511503314,
          1.444887589644919,
          1.1608692488114039,
          0.21331008276183352,
          -1.5674073183247008,
          -1.9611160342124108,
          0.13114070070755485,
          0.1390419067039414,
          0.201875691221135,
          2.1116300460292874,
          -0.03985344774724589,
          1.1033406062702726,
          1.255239122087884,
          -0.7700826543154323,
          1.5029555203387535,
          0.83490085894468,
          0.48522406532482926,
          -0.5443150023094263,
          -1.0853910560212068,
          0.0629253776805732,
          0.6092177746707794,
          0.08222255245601279,
          1.347691632773757,
          0.012568883354765378,
          0.7455962141353014,
          0.28167793392485607,
          -1.5481516709643663,
          -1.1206433462988008,
          -1.7331161646581885,
          -1.22051102397732,
          -0.9238520912267743,
          -0.3652613330711105,
          -1.1701873085213772,
          0.4799355359270955,
          1.4457587371732852,
          -0.416715321118636,
          0.07094040805611461,
          0.8317388438256006,
          -0.9745540961212347,
          -0.06507903436668323,
          1.3935741977984974,
          -0.46072857771788,
          0.6683455904372358,
          0.41423647049020934,
          -0.9492095039513283,
          -0.9233296424995828,
          -0.4978436908044051,
          0.6827958126533248,
          1.5991215047063112,
          0.6102165275100818,
          0.1807418669600188,
          -0.08526768893699405,
          2.125496017843575,
          0.9351419699982947,
          1.3739264400567872,
          0.39383336181820633,
          -1.0986129265502886,
          0.5103700479946016,
          1.8712579078401645,
          -1.2879865112969748,
          -2.7741186592987104,
          -0.5884134945245273,
          -0.9980713126219899,
          -0.7573786069546276,
          0.056724241560722935,
          -0.3531476873195677,
          0.3791889523283035,
          0.4104123336413958,
          -0.4317239451685543,
          -0.28892872635050826,
          0.7983816484998104,
          0.36752021887761405,
          -1.364703777923301,
          0.5800018168184223,
          0.7115968761438083,
          1.305449689163111,
          -0.612004449135649,
          1.0391960374538087,
          0.9992313374697956,
          -0.0886533115647589,
          -0.28041443772986824,
          0.5584775222372597,
          0.1154225782758384,
          -1.539626103102329,
          -0.37461966953804066,
          -0.2828504837337003,
          -0.983659245735906,
          1.6666626216702312,
          0.47361037033817205,
          -1.555085673013987,
          -1.2016622038903826,
          0.5421219524241622,
          0.3774560421419383,
          1.6399736108797256,
          -0.31758550634428534,
          -0.7187021497676126,
          0.4316878366316522,
          1.1995166434861961,
          -1.507613774737712,
          -1.1258177873843234,
          -1.4230799836387473,
          0.820818089112775,
          0.8424464695295725,
          0.6090360785150318,
          -0.08175691570461686,
          -0.8790893053575676,
          -1.1392139894526565,
          2.1016478285420592,
          -0.2788475524167212,
          -1.6706677681940603,
          -2.1617313266837224,
          0.9432045418579604,
          0.7370003863794682,
          0.9984710219007547,
          0.46030016413505975,
          0.7097972264979413,
          1.1562276980609136,
          -0.5659169473256664,
          1.4625964556828326,
          -1.884436645656997,
          -1.1190566525032928,
          -1.1471403113740821,
          -0.23107830186852,
          -1.6337410358601858,
          1.141657182223598,
          -0.011371409415077166,
          1.1582513352248474,
          1.1814528364246573,
          -0.779166186044,
          -1.1755345518494484,
          0.9920617275338683,
          0.18160839611780966,
          -0.4920274776065941,
          -0.3942733158261949,
          -0.36401133576674727,
          0.774198324421288,
          0.14271800451744954,
          1.2662947117304189,
          1.0604220615291426,
          -0.48515424912313293,
          -0.8709182617123866,
          -0.05057203595983225,
          -1.1476379845915519,
          1.4509444481683886,
          0.4562909755932194,
          0.6981207891302799,
          0.7500838899490765,
          0.6723077735248759,
          -0.3631831241341956,
          0.9324005584959894,
          0.22695984331092334,
          -1.547960807723926,
          1.0678512006951841,
          -1.0548978528497666,
          0.23420980015623588,
          0.6905365455369717,
          0.7121711840562767,
          1.704418216410666,
          0.2206611880428237,
          1.2315812061836342,
          0.9342795283304405,
          0.8800045131012927,
          0.14974336616572592,
          1.8703761145104867,
          -0.046089418246462295,
          0.15449390703355925,
          -1.405213722772835,
          -0.8209291359067761,
          1.6308089265351646,
          -1.159459870301336,
          0.0802455000525781,
          -1.3504599055792246,
          -0.14501144954298728,
          0.49645650469186525,
          1.5071297073742824,
          0.0527585516789318,
          0.6260139446064961,
          -0.8813558882765757,
          1.2014687560891217,
          0.5744507523937876,
          1.5395598782782511,
          0.2719164274365037,
          -0.7683043458398002,
          -0.9071869213350262,
          0.1493122780398951,
          0.21554255947482964,
          0.26746693789573295,
          -1.283583592338243,
          -0.9848263788419137,
          -0.0320059136659352,
          1.2569188669794564,
          -0.8073316419002319,
          -0.30586701749183653,
          -0.8114177021672097,
          1.0309480166321658,
          0.7471560539925067,
          0.0884059970220817,
          1.0158181262241788,
          0.5714504216645452,
          -0.8739305241956616,
          -0.277498075901012,
          0.6157755919878096,
          -0.5260294818895775,
          0.9595864217132349,
          1.1319573915383196,
          -0.45140104657979596,
          -0.4767460406708339,
          -2.248519155893933,
          -0.3827386895337584,
          -0.9491474020853778,
          -0.43146972083391383,
          0.38150272764515814,
          0.06293889012598113,
          -1.1277088784205755,
          0.4927539313100522,
          -0.2593162777667733,
          -2.5131984033020154,
          -1.49272572220437,
          -0.027505973967056185,
          0.8238063820793281,
          -0.05246849898588017,
          -0.580014308946785,
          -1.8815558373528662,
          0.023606580892668934,
          1.4253411642146028,
          -0.44817988841221656,
          1.4944245039317579,
          0.11142743300182709,
          1.9708386761104741,
          -0.5896279711831416,
          -0.748314254614261,
          -0.8089385775867404,
          0.28315498627019936,
          0.6173868462012647,
          -0.8865822623964323,
          -3.1224860809259396,
          -1.2849117208011929,
          1.2764343551583996,
          1.3099999849893407,
          -0.05569466106052148,
          -0.4606202394737971,
          -1.3294396033818836,
          -0.05296865609228372,
          0.4100754400183106,
          -0.39825540228059575,
          1.320370978737865,
          -1.401639742713298,
          -0.028926161534490635,
          0.09010324366344613,
          -1.7883232922788326,
          -0.31598736513178804,
          1.4038864224775063,
          1.3421983428212294,
          0.32492389790786214,
          0.2507284019773477,
          0.9725692104747321,
          0.5436314009023537,
          0.9798775170545022,
          -0.11717575256442646,
          -0.3589105006901705,
          0.1531309266303402,
          1.7212566627678887,
          -0.3396587509922027,
          -0.30980705179027757,
          -0.4905669584536671,
          2.0493596014748876,
          1.2167848299188018,
          0.25188310695780275,
          -0.5002382997739887,
          0.5557133571023213,
          1.3359155902458368,
          -0.13901778903174164,
          0.5824191005510717,
          -0.004163170658468743,
          -0.11475954535407754,
          0.3606112243688726,
          -5.789788445615286e-05,
          -0.6797746503374593,
          0.6947485894681726,
          -0.7387711195753475,
          0.8430804397290881,
          -1.2183190665977313,
          -0.08953164381950383,
          -0.7123905843168408,
          -1.8125388174590973,
          0.844048855242713,
          -1.3171148411992433,
          1.2251794850116475,
          1.3782838845286058,
          0.33909253093682207,
          1.2250868621074662,
          0.8318178197688835,
          -0.03242638438833826,
          -0.3340243397279838,
          -2.509458914723612,
          1.2435682604036,
          1.1999911073321794,
          0.29952587048894735,
          -0.8415189669968771,
          -0.24204045778105904,
          -0.7526656465886977,
          -0.9500864838716226,
          -0.26572665578771737,
          1.4434761982069053,
          -1.3864869515234057,
          -1.5562759672810167,
          0.46302856610924054,
          -0.345342944758271,
          -0.29693982274593367,
          -0.47481262386375234,
          1.8039127934079136,
          -0.5373804237132405,
          -0.9616285065768648,
          0.03267710990456814,
          1.2730657472215314,
          0.6128136273064851,
          -0.11446157165186163,
          0.7941219709700147,
          0.878233844868353,
          2.042999226108389,
          -2.116734868797163,
          1.467717338120229,
          -0.6948383693024562,
          0.08465287102387455,
          0.7081134071698705,
          -0.4000636836026133,
          -2.7322760171590934,
          0.10754212919392254,
          -0.5535391260060446,
          2.130976270143384,
          -1.089614840996352,
          0.07908111530037965,
          1.706244604633776,
          0.8445871125725927,
          0.9920897973669579,
          0.023285852213858694,
          -0.5311437674107231,
          1.407759247802863,
          0.1934226000722599,
          0.6321819192718533,
          -1.524869790111628,
          -0.17165335005281582,
          0.31609669145352387,
          1.2423202306555996,
          0.6809832936061944,
          -0.790224507943849,
          -1.6352190498251808,
          -0.8857273202479451,
          1.5754483837818871,
          -1.1787108830614685,
          -0.186591951781257,
          -0.20411721899150861,
          0.32869517149555283,
          -0.22453593833291005,
          0.01725920134499307,
          0.9836448062976357,
          -0.2989384563904051,
          -0.5103492030158747,
          2.451406791381022,
          -0.18414463656490382,
          0.5503350164709072,
          1.4033603302513915,
          0.929259849542886,
          -0.29991465866021905,
          -0.35177665691132853,
          1.2522677125698187,
          -0.4139376695746948,
          -1.0419997995050472,
          -0.8210168734903699,
          0.6993564481322845,
          -0.597835495211821,
          1.1128738910994418,
          -0.6521234928055532,
          -0.29934586083623727,
          0.6644379726107807,
          1.3936510428405242,
          0.44775385733750483,
          -0.406805575094298,
          -0.41535853824825,
          -0.19642602715935314,
          0.3291871683294545,
          0.918393262505265,
          0.2955415764391326,
          0.7843205647249732,
          -1.1179541542606461,
          -0.45206248772604135,
          0.4348116455898193,
          0.0805858206292141,
          -0.5944286472343062,
          0.029164467868318625,
          -1.264723331042583,
          -1.626594870502116,
          -0.3558944603278486,
          -3.536206721237278,
          0.8251338205097923,
          -0.20073413201350046,
          1.0663531710981025,
          0.7646852560077615,
          0.0018322675299389994,
          -0.5317452224926028,
          0.10969779267567575,
          -1.3408566012735816,
          -0.3366435417732234,
          1.0386638343611658,
          -0.9092125442527127,
          0.25401096001120665,
          0.4194135029778546,
          2.269479582154874,
          -3.1110335871058594,
          -0.42969656786085236,
          -0.08030707391801542,
          1.0359630758826626,
          0.2782446930477226,
          -1.3270269061817148,
          1.0976576239112465,
          -0.32402193624875864,
          0.36505014608017056,
          1.1811541124865763,
          1.4933602670409518,
          -0.023748237053916894,
          -1.832732226522454,
          0.37965005752726705,
          -0.2190777227397107,
          -1.4906102491895874,
          0.7436337190952048,
          -0.005110180373002372,
          -1.3207025738417133,
          -1.3898363310592723,
          -1.8024455422015413,
          -0.6046821505007985,
          1.0775514767899423,
          -1.485781803583542,
          -1.988306289324001,
          0.025437430563695046,
          0.6952192973443989,
          -0.296696514680705,
          2.034325843280548,
          -1.605659143752205,
          0.20428931403786216,
          0.501703959648307,
          0.9970801591589659,
          -1.9090479074357753,
          0.8055299110829066,
          -2.141729800031753,
          2.2040761954993244,
          0.7497919272824708,
          1.3083386135578934,
          -0.44721245169670387,
          0.4852682244213729,
          0.7761870136217399,
          -1.4331811776996748,
          0.3798899526727505,
          0.22142320972123947,
          1.8176068814810837,
          -0.028015398989818273,
          0.6440604166341805,
          -1.0023694825049483,
          -0.7936148371913039,
          -0.5562587057193468,
          -1.2254567081732568,
          -1.1842190469717244,
          1.8810943224804073,
          -0.733231851520522,
          0.7522094060179504,
          1.5605729868413751,
          -0.07045732509665409,
          -1.6120905723863252,
          -0.2661038508965018,
          -0.9913948094902595,
          -1.0720799935224317,
          -0.05191692133907538,
          0.39447832364702123,
          0.6800053044037621,
          0.2458532129824575,
          0.1271091350877431,
          -0.4514025153815522,
          -0.22957270764948237,
          -1.1444290806057293,
          1.03975434471538,
          0.5286913179016887,
          0.6847872391621096,
          -0.007810528640218258,
          -0.3052570366589737,
          -2.031747197686872,
          -0.2927089136682462,
          -0.030161235618620347,
          0.2603435875871013,
          -0.5655424151912138,
          0.7966442330444371,
          0.22994268558020178,
          0.015210467937636356,
          -0.37717618067770975,
          -0.6467346609569657,
          -1.1545348915039346,
          1.054590127550709,
          1.663128623293437,
          0.4838893436004858,
          -0.3334734869262458,
          0.13668390278001163,
          0.9954425993394574,
          0.10172764027992438,
          -0.797903511299591,
          -0.04196918217648525,
          -0.3915006059230409,
          -1.6184817531020002,
          0.48878981911525615,
          1.2787895978175288,
          2.490420321139034,
          -1.4249718637715245,
          0.35536513239200884,
          -1.1676440188943293,
          0.8331790596352346,
          1.7546747186055323,
          -0.18740017933961298,
          -0.23791320184908057,
          0.5156011121515299,
          0.2059523381817439,
          0.7514321756912977,
          0.8013644494914403,
          -0.4781920860618831,
          -0.1768759700930432,
          -1.1867896086856098,
          1.418842345601921,
          -0.017562107616613958,
          -0.7479112757123177
         ]
        }
       ],
       "layout": {
        "template": {
         "data": {
          "bar": [
           {
            "error_x": {
             "color": "#2a3f5f"
            },
            "error_y": {
             "color": "#2a3f5f"
            },
            "marker": {
             "line": {
              "color": "#E5ECF6",
              "width": 0.5
             }
            },
            "type": "bar"
           }
          ],
          "barpolar": [
           {
            "marker": {
             "line": {
              "color": "#E5ECF6",
              "width": 0.5
             }
            },
            "type": "barpolar"
           }
          ],
          "carpet": [
           {
            "aaxis": {
             "endlinecolor": "#2a3f5f",
             "gridcolor": "white",
             "linecolor": "white",
             "minorgridcolor": "white",
             "startlinecolor": "#2a3f5f"
            },
            "baxis": {
             "endlinecolor": "#2a3f5f",
             "gridcolor": "white",
             "linecolor": "white",
             "minorgridcolor": "white",
             "startlinecolor": "#2a3f5f"
            },
            "type": "carpet"
           }
          ],
          "choropleth": [
           {
            "colorbar": {
             "outlinewidth": 0,
             "ticks": ""
            },
            "type": "choropleth"
           }
          ],
          "contour": [
           {
            "colorbar": {
             "outlinewidth": 0,
             "ticks": ""
            },
            "colorscale": [
             [
              0,
              "#0d0887"
             ],
             [
              0.1111111111111111,
              "#46039f"
             ],
             [
              0.2222222222222222,
              "#7201a8"
             ],
             [
              0.3333333333333333,
              "#9c179e"
             ],
             [
              0.4444444444444444,
              "#bd3786"
             ],
             [
              0.5555555555555556,
              "#d8576b"
             ],
             [
              0.6666666666666666,
              "#ed7953"
             ],
             [
              0.7777777777777778,
              "#fb9f3a"
             ],
             [
              0.8888888888888888,
              "#fdca26"
             ],
             [
              1,
              "#f0f921"
             ]
            ],
            "type": "contour"
           }
          ],
          "contourcarpet": [
           {
            "colorbar": {
             "outlinewidth": 0,
             "ticks": ""
            },
            "type": "contourcarpet"
           }
          ],
          "heatmap": [
           {
            "colorbar": {
             "outlinewidth": 0,
             "ticks": ""
            },
            "colorscale": [
             [
              0,
              "#0d0887"
             ],
             [
              0.1111111111111111,
              "#46039f"
             ],
             [
              0.2222222222222222,
              "#7201a8"
             ],
             [
              0.3333333333333333,
              "#9c179e"
             ],
             [
              0.4444444444444444,
              "#bd3786"
             ],
             [
              0.5555555555555556,
              "#d8576b"
             ],
             [
              0.6666666666666666,
              "#ed7953"
             ],
             [
              0.7777777777777778,
              "#fb9f3a"
             ],
             [
              0.8888888888888888,
              "#fdca26"
             ],
             [
              1,
              "#f0f921"
             ]
            ],
            "type": "heatmap"
           }
          ],
          "heatmapgl": [
           {
            "colorbar": {
             "outlinewidth": 0,
             "ticks": ""
            },
            "colorscale": [
             [
              0,
              "#0d0887"
             ],
             [
              0.1111111111111111,
              "#46039f"
             ],
             [
              0.2222222222222222,
              "#7201a8"
             ],
             [
              0.3333333333333333,
              "#9c179e"
             ],
             [
              0.4444444444444444,
              "#bd3786"
             ],
             [
              0.5555555555555556,
              "#d8576b"
             ],
             [
              0.6666666666666666,
              "#ed7953"
             ],
             [
              0.7777777777777778,
              "#fb9f3a"
             ],
             [
              0.8888888888888888,
              "#fdca26"
             ],
             [
              1,
              "#f0f921"
             ]
            ],
            "type": "heatmapgl"
           }
          ],
          "histogram": [
           {
            "marker": {
             "colorbar": {
              "outlinewidth": 0,
              "ticks": ""
             }
            },
            "type": "histogram"
           }
          ],
          "histogram2d": [
           {
            "colorbar": {
             "outlinewidth": 0,
             "ticks": ""
            },
            "colorscale": [
             [
              0,
              "#0d0887"
             ],
             [
              0.1111111111111111,
              "#46039f"
             ],
             [
              0.2222222222222222,
              "#7201a8"
             ],
             [
              0.3333333333333333,
              "#9c179e"
             ],
             [
              0.4444444444444444,
              "#bd3786"
             ],
             [
              0.5555555555555556,
              "#d8576b"
             ],
             [
              0.6666666666666666,
              "#ed7953"
             ],
             [
              0.7777777777777778,
              "#fb9f3a"
             ],
             [
              0.8888888888888888,
              "#fdca26"
             ],
             [
              1,
              "#f0f921"
             ]
            ],
            "type": "histogram2d"
           }
          ],
          "histogram2dcontour": [
           {
            "colorbar": {
             "outlinewidth": 0,
             "ticks": ""
            },
            "colorscale": [
             [
              0,
              "#0d0887"
             ],
             [
              0.1111111111111111,
              "#46039f"
             ],
             [
              0.2222222222222222,
              "#7201a8"
             ],
             [
              0.3333333333333333,
              "#9c179e"
             ],
             [
              0.4444444444444444,
              "#bd3786"
             ],
             [
              0.5555555555555556,
              "#d8576b"
             ],
             [
              0.6666666666666666,
              "#ed7953"
             ],
             [
              0.7777777777777778,
              "#fb9f3a"
             ],
             [
              0.8888888888888888,
              "#fdca26"
             ],
             [
              1,
              "#f0f921"
             ]
            ],
            "type": "histogram2dcontour"
           }
          ],
          "mesh3d": [
           {
            "colorbar": {
             "outlinewidth": 0,
             "ticks": ""
            },
            "type": "mesh3d"
           }
          ],
          "parcoords": [
           {
            "line": {
             "colorbar": {
              "outlinewidth": 0,
              "ticks": ""
             }
            },
            "type": "parcoords"
           }
          ],
          "pie": [
           {
            "automargin": true,
            "type": "pie"
           }
          ],
          "scatter": [
           {
            "marker": {
             "colorbar": {
              "outlinewidth": 0,
              "ticks": ""
             }
            },
            "type": "scatter"
           }
          ],
          "scatter3d": [
           {
            "line": {
             "colorbar": {
              "outlinewidth": 0,
              "ticks": ""
             }
            },
            "marker": {
             "colorbar": {
              "outlinewidth": 0,
              "ticks": ""
             }
            },
            "type": "scatter3d"
           }
          ],
          "scattercarpet": [
           {
            "marker": {
             "colorbar": {
              "outlinewidth": 0,
              "ticks": ""
             }
            },
            "type": "scattercarpet"
           }
          ],
          "scattergeo": [
           {
            "marker": {
             "colorbar": {
              "outlinewidth": 0,
              "ticks": ""
             }
            },
            "type": "scattergeo"
           }
          ],
          "scattergl": [
           {
            "marker": {
             "colorbar": {
              "outlinewidth": 0,
              "ticks": ""
             }
            },
            "type": "scattergl"
           }
          ],
          "scattermapbox": [
           {
            "marker": {
             "colorbar": {
              "outlinewidth": 0,
              "ticks": ""
             }
            },
            "type": "scattermapbox"
           }
          ],
          "scatterpolar": [
           {
            "marker": {
             "colorbar": {
              "outlinewidth": 0,
              "ticks": ""
             }
            },
            "type": "scatterpolar"
           }
          ],
          "scatterpolargl": [
           {
            "marker": {
             "colorbar": {
              "outlinewidth": 0,
              "ticks": ""
             }
            },
            "type": "scatterpolargl"
           }
          ],
          "scatterternary": [
           {
            "marker": {
             "colorbar": {
              "outlinewidth": 0,
              "ticks": ""
             }
            },
            "type": "scatterternary"
           }
          ],
          "surface": [
           {
            "colorbar": {
             "outlinewidth": 0,
             "ticks": ""
            },
            "colorscale": [
             [
              0,
              "#0d0887"
             ],
             [
              0.1111111111111111,
              "#46039f"
             ],
             [
              0.2222222222222222,
              "#7201a8"
             ],
             [
              0.3333333333333333,
              "#9c179e"
             ],
             [
              0.4444444444444444,
              "#bd3786"
             ],
             [
              0.5555555555555556,
              "#d8576b"
             ],
             [
              0.6666666666666666,
              "#ed7953"
             ],
             [
              0.7777777777777778,
              "#fb9f3a"
             ],
             [
              0.8888888888888888,
              "#fdca26"
             ],
             [
              1,
              "#f0f921"
             ]
            ],
            "type": "surface"
           }
          ],
          "table": [
           {
            "cells": {
             "fill": {
              "color": "#EBF0F8"
             },
             "line": {
              "color": "white"
             }
            },
            "header": {
             "fill": {
              "color": "#C8D4E3"
             },
             "line": {
              "color": "white"
             }
            },
            "type": "table"
           }
          ]
         },
         "layout": {
          "annotationdefaults": {
           "arrowcolor": "#2a3f5f",
           "arrowhead": 0,
           "arrowwidth": 1
          },
          "coloraxis": {
           "colorbar": {
            "outlinewidth": 0,
            "ticks": ""
           }
          },
          "colorscale": {
           "diverging": [
            [
             0,
             "#8e0152"
            ],
            [
             0.1,
             "#c51b7d"
            ],
            [
             0.2,
             "#de77ae"
            ],
            [
             0.3,
             "#f1b6da"
            ],
            [
             0.4,
             "#fde0ef"
            ],
            [
             0.5,
             "#f7f7f7"
            ],
            [
             0.6,
             "#e6f5d0"
            ],
            [
             0.7,
             "#b8e186"
            ],
            [
             0.8,
             "#7fbc41"
            ],
            [
             0.9,
             "#4d9221"
            ],
            [
             1,
             "#276419"
            ]
           ],
           "sequential": [
            [
             0,
             "#0d0887"
            ],
            [
             0.1111111111111111,
             "#46039f"
            ],
            [
             0.2222222222222222,
             "#7201a8"
            ],
            [
             0.3333333333333333,
             "#9c179e"
            ],
            [
             0.4444444444444444,
             "#bd3786"
            ],
            [
             0.5555555555555556,
             "#d8576b"
            ],
            [
             0.6666666666666666,
             "#ed7953"
            ],
            [
             0.7777777777777778,
             "#fb9f3a"
            ],
            [
             0.8888888888888888,
             "#fdca26"
            ],
            [
             1,
             "#f0f921"
            ]
           ],
           "sequentialminus": [
            [
             0,
             "#0d0887"
            ],
            [
             0.1111111111111111,
             "#46039f"
            ],
            [
             0.2222222222222222,
             "#7201a8"
            ],
            [
             0.3333333333333333,
             "#9c179e"
            ],
            [
             0.4444444444444444,
             "#bd3786"
            ],
            [
             0.5555555555555556,
             "#d8576b"
            ],
            [
             0.6666666666666666,
             "#ed7953"
            ],
            [
             0.7777777777777778,
             "#fb9f3a"
            ],
            [
             0.8888888888888888,
             "#fdca26"
            ],
            [
             1,
             "#f0f921"
            ]
           ]
          },
          "colorway": [
           "#636efa",
           "#EF553B",
           "#00cc96",
           "#ab63fa",
           "#FFA15A",
           "#19d3f3",
           "#FF6692",
           "#B6E880",
           "#FF97FF",
           "#FECB52"
          ],
          "font": {
           "color": "#2a3f5f"
          },
          "geo": {
           "bgcolor": "white",
           "lakecolor": "white",
           "landcolor": "#E5ECF6",
           "showlakes": true,
           "showland": true,
           "subunitcolor": "white"
          },
          "hoverlabel": {
           "align": "left"
          },
          "hovermode": "closest",
          "mapbox": {
           "style": "light"
          },
          "paper_bgcolor": "white",
          "plot_bgcolor": "#E5ECF6",
          "polar": {
           "angularaxis": {
            "gridcolor": "white",
            "linecolor": "white",
            "ticks": ""
           },
           "bgcolor": "#E5ECF6",
           "radialaxis": {
            "gridcolor": "white",
            "linecolor": "white",
            "ticks": ""
           }
          },
          "scene": {
           "xaxis": {
            "backgroundcolor": "#E5ECF6",
            "gridcolor": "white",
            "gridwidth": 2,
            "linecolor": "white",
            "showbackground": true,
            "ticks": "",
            "zerolinecolor": "white"
           },
           "yaxis": {
            "backgroundcolor": "#E5ECF6",
            "gridcolor": "white",
            "gridwidth": 2,
            "linecolor": "white",
            "showbackground": true,
            "ticks": "",
            "zerolinecolor": "white"
           },
           "zaxis": {
            "backgroundcolor": "#E5ECF6",
            "gridcolor": "white",
            "gridwidth": 2,
            "linecolor": "white",
            "showbackground": true,
            "ticks": "",
            "zerolinecolor": "white"
           }
          },
          "shapedefaults": {
           "line": {
            "color": "#2a3f5f"
           }
          },
          "ternary": {
           "aaxis": {
            "gridcolor": "white",
            "linecolor": "white",
            "ticks": ""
           },
           "baxis": {
            "gridcolor": "white",
            "linecolor": "white",
            "ticks": ""
           },
           "bgcolor": "#E5ECF6",
           "caxis": {
            "gridcolor": "white",
            "linecolor": "white",
            "ticks": ""
           }
          },
          "title": {
           "x": 0.05
          },
          "xaxis": {
           "automargin": true,
           "gridcolor": "white",
           "linecolor": "white",
           "ticks": "",
           "title": {
            "standoff": 15
           },
           "zerolinecolor": "white",
           "zerolinewidth": 2
          },
          "yaxis": {
           "automargin": true,
           "gridcolor": "white",
           "linecolor": "white",
           "ticks": "",
           "title": {
            "standoff": 15
           },
           "zerolinecolor": "white",
           "zerolinewidth": 2
          }
         }
        }
       }
      },
      "text/html": [
       "<div>\n",
       "        \n",
       "        \n",
       "            <div id=\"82f5ea76-3ff5-479b-8283-c44bf015c296\" class=\"plotly-graph-div\" style=\"height:525px; width:100%;\"></div>\n",
       "            <script type=\"text/javascript\">\n",
       "                require([\"plotly\"], function(Plotly) {\n",
       "                    window.PLOTLYENV=window.PLOTLYENV || {};\n",
       "                    \n",
       "                if (document.getElementById(\"82f5ea76-3ff5-479b-8283-c44bf015c296\")) {\n",
       "                    Plotly.newPlot(\n",
       "                        '82f5ea76-3ff5-479b-8283-c44bf015c296',\n",
       "                        [{\"mode\": \"markers\", \"type\": \"scatter\", \"x\": [0.49666608790145206, 0.5732829900027855, 0.36208277497384583, 2.0347208481654726, -1.0465084997582317, 0.7007008842763838, 0.3477868458318225, 1.2294842782551778, -0.8802227693466843, 1.3684515562383164, -0.09012935483152511, -0.20323911063525557, -0.9998875824045496, -0.7097594321126705, 1.6863942027502885, -0.7790570082598792, -0.28217855225115895, 0.5281778734165055, 1.8477081558874893, -0.19423214369255482, 1.1619719132498585, -1.363465210799115, 1.6321325398678823, 0.8603932429733263, 1.3424158642797217, 0.29031797372606044, 0.19868366687250544, 0.9165808741582103, -0.02836924929033722, -0.424425853665404, 0.18968171953411847, 0.3013040888072495, 0.74844025702234, -0.7062520889541, 0.6502860814734936, -1.2016999765395322, -1.348131047371953, 1.030953654435377, -1.2516517136848528, -1.0871846145536304, 0.4364135664808519, -0.3056460013827557, 0.052870191830685136, 0.3169535889271297, -1.4039209021234482, -0.7316015890987562, -0.1888780666836141, -0.14663628560978192, -1.0761633853730748, -0.27279839714614745, 1.0339262366225401, 1.1672150065352977, 0.15084656096447016, -1.2080896677960948, 0.36899083701332897, 0.2040801419356628, 0.21458658837784245, 0.8230981514633579, 0.06406025314326202, 0.3942244869444546, -1.3817242299314993, 0.9465098383636743, 1.7401736987113394, 0.4823451078129195, 0.6103818283000859, 0.16490373236598385, -1.3196593830376215, 1.9825306079792755, 0.21156548471532913, 0.645713401482973, 0.10056285717455883, 2.188990836575713, 1.5750516768946827, 0.736426571057901, 0.400244042236646, -0.2336432054206666, -0.8634181183334176, -0.0806464024945817, 0.6361927394752129, -0.29097067999971726, -0.4919695326872475, 0.38992109200663405, 0.3463351364838696, 1.076535683290135, -0.9125645106447832, 0.7159689546145843, -2.057348056842449, 1.736801664429544, -0.2908544406013069, 1.6691853844132964, 1.4894721744214923, 1.066124088298806, -0.027098728100227523, -0.6999134173697006, -0.7648246595942377, 0.30120761134227575, 0.1478401117823443, 0.3544456194335821, -0.6551051560396137, -0.16640184053760737, -1.170863661552128, 1.5644914444415168, 0.6844077314032762, -0.47468666996269293, 0.5325014859509538, -0.3107672695385775, 0.5853439312379738, -1.4250025000234465, 1.6253071096524097, -0.5191605551232463, -0.49508479830811264, 0.1754313182191046, -0.11780444775693787, 0.9897295867833034, 0.3994976387866692, 0.10812426290010826, -0.7216094493510505, -0.06501949400571483, 1.4332715318086908, 0.3394583246499822, -1.6387336058608515, -0.08915783173711353, 0.4658362314058959, 2.500272156286705, 0.19056559671277754, 0.5203898096959758, -1.1194559723769988, 0.4829526323229119, -0.8585014817911187, -0.9202565782241964, -0.6816031416246566, 0.3163762459736948, 0.49990144879202086, 0.9689952087488015, -1.0928306468455065, 0.8948664991518368, -2.1694882158849356, -0.8507858802080387, -0.1882186578846992, 0.06085346772114455, -0.9298823491086724, -0.7591023129915597, 0.13904192182758682, -0.7470381747391261, 1.635388635452121, -0.8839595887117858, 0.6951429930797169, -0.42800733026133675, -1.8610172289894853, -0.5435706980570865, -0.026185746967866384, 0.6743410788974735, 1.5181194131998084, -1.451313324266378, -1.5989554016142795, -0.4937934657581556, -0.9236714019796707, 0.5469208453549811, 1.3051602411751067, 0.6081220332097015, 0.49801552723617043, 0.34553653699795894, 0.7909562308642101, 0.6563363466746603, 0.747697083360997, -1.78216360593156, -0.3482884661867139, -1.0159152435003653, -1.3712469493249333, -1.5533582962250547, -0.16032532968205787, 0.9732523870605233, -1.577948607944338, -0.9632129529202808, -1.4500918607271063, -0.03275542514686473, 0.2842784087828847, -1.9890651517712723, 0.5932783361011058, 0.3715587493294618, 1.3554681517374814, 2.854702615284072, -1.64131848142378, 0.010363614037713475, -0.7039489084128582, 0.04108387684764171, 1.3313247177546645, 0.38694221672876583, 0.4807567419231698, 1.5140827890138706, 1.7087979136752203, 0.647306095465236, -0.7909207836124539, 1.1577511425252534, -0.43851591358687453, 2.4734893810033056, 0.2765512963945294, 0.6455752062229172, 0.5152078049020544, 0.8661356711463981, 1.3838992657264386, 1.3447426227897283, -0.6075575783430786, -1.9413769235421716, -0.6818262306569285, -1.872269291917224, -0.3181115956216235, 2.364539498108573, -0.42730005560497347, 0.1433117902396408, 0.3698787634270714, -0.959714361668113, -0.6290072171447002, -1.1842660832939158, -0.3935389054936375, -1.8504821263715059, 0.09997558082747245, -1.1512085363180011, -0.09896685514355961, 0.13970663582847057, -1.6296672000440966, 0.15864057224586653, -1.0849351719634475, 0.9756312129247499, -1.159893052412486, 0.15858915047383337, 0.08267061275380423, -0.6423336185774647, 1.6622119134883264, -1.737328661501939, -1.0619309782560047, 0.26455411015851565, 0.48934925011728453, -0.2165777809409655, 1.7601262281084609, -0.5605312730227784, -0.8048569703763537, 0.42763653323644624, 1.4631814253025999, 0.01340226438747766, 2.2570755363384136, -0.03790026822014475, 0.16418343970640611, 0.6255673823703177, 0.9808140636700968, 0.348788602584002, 0.10648699190427044, 0.8576885652019972, 2.678075401547502, 0.45364489192207685, 0.30886446989944166, -1.626077518737252, -0.7052741860417255, -1.2110106211453215, -2.4125179702262898, -1.8119897213854124, 1.6300459139414714, -0.6921166567798499, 1.4036594713632597, 0.7535669874788148, -1.248492856237395, -0.6486536065987335, -0.9281281199023785, 0.5941632537462666, 0.6596295100146157, -0.6551688981545645, 0.696606638286216, -0.6534295557661882, -1.393182737984479, -0.3052731415428118, 0.45284258402568595, -0.778065443635362, 0.48111428324926225, 0.5261365098122971, -1.1012493663617393, -0.8595490631797524, -1.1220608686681368, 0.4580455006500123, -0.38312559026199544, 1.931388934860875, 0.7490971649288176, -1.4032771582931154, -1.2155194359835177, 0.5090801526484945, 0.4576700797942806, -1.7689103193478346, 0.09474642495992613, 0.820072152869246, 2.0239757279661537, 0.7014052350576698, -1.2633933454384596, -1.1494277970074416, 1.3700434152700087, 0.22457585442920036, 0.7995457177855494, -0.1833977011053502, 0.12826328277214785, 0.4168570459251067, 1.8116126456590589, 2.206373787574695, 0.9675995703491141, 0.621311472061103, 0.38647127368932055, 1.527533163620668, -0.26300193278107664, -0.098751470226064, 0.734929304649509, -0.3572577689423134, 0.42714447244468423, 0.4531931187721499, -1.2554416055812567, -1.4532763601592973, -0.690888112800922, -0.4787116503249505, 1.3620477546489747, 0.9730607359905542, 0.24166526531906188, 0.35852857329588966, -0.12098830451668424, -1.1816185746704506, 0.5423027370233076, -0.15983573702716797, -0.18237743240493082, 1.2207719461551023, 0.8134580558043848, 0.957470728937488, 0.9413875988138452, -1.317415667429016, -1.4763226747988392, -0.544995985206788, -0.1648386052390375, -0.5649452493292506, -0.9539267587535009, 1.7371216514978898, 0.7548721374377149, -1.2905965981530603, -1.5271908605078433, -0.2979581005956464, -0.15897551020435896, 1.3256421599887351, -0.32245180850092836, 0.5770561384550278, 0.7427180720360227, 0.8269294478565822, -0.23139244691373081, -1.3488877490935018, -1.0723940321188246, -0.01101960173393374, -0.47536914628665305, 0.7091668478376392, -0.04900151937255222, -0.8551323374923091, -1.4341241909657292, -1.2742223698538382, 1.2670865571394596, -1.4194800063743032, -0.45426593784897346, -1.5801885156004147, -0.4626867124302875, -1.2108452462746844, 0.5911506012202482, 0.5603761798218269, -1.3662840186604268, -0.2921164603107537, 1.2236686723853385, 0.8463924039876787, -1.405886335239479, 0.7511681973070428, -1.0385504580917133, 1.051782592202769, -0.28603386115295715, 1.5866221665908018, -0.4270238867537863, 1.8984083774601637, -0.2176895276438961, 1.323997275979677, -0.025571323743515378, 0.822941016724426, 0.3111333665112365, -2.1884752655611868, 0.46974977426116094, 0.6921374988373793, -0.4002015417764511, 0.07168784454828794, 0.24976413510829146, -0.9788580630312708, -1.7877445323613839, 0.6447596322806098, 0.4343520990437527, -1.0247213695222654, -0.44519398829207296, 0.8297983185950525, 0.1203301747821874, 0.2683863872615633, 0.7597925066387599, 1.3543344948971656, 1.3864154750136204, 0.3631271769152098, 0.42903472393968717, 0.7200311032761865, -0.41749429959452705, -1.1840210276857877, -0.9216972468388174, -1.443572708204449, 0.23959172644296722, 0.36683833324719256, -0.004737934951219442, 1.3245143536175736, 1.1395893711244116, 0.23835201731801406, -1.0964823254151599, 0.045087362074649855, -2.53844554205366, 0.4704111450779397, 2.2141671371971907, 0.7017667301058282, 0.18135179274639804, 0.842175791779217, 0.4616521641927657, 1.0974237514693093, -0.3896506390947798, 1.5525346585017938, 2.0978831543875374, -1.4991261935899598, -1.8028906030877776, -0.29224370022704665, -0.5029233009970446, 0.35460017493851825, -0.31742025018341846, -0.6885261579130145, -0.5201805609133491, -0.16198213768593214, 0.4724553371767593, 0.993792322591054, -1.186781496263394, 0.6420207790625669, 0.33505970472165103, -1.954006003077152, 0.9191493525960318, 1.7005780529679313, 0.42590537982813986, 0.4646138597630604, -0.07738180956351375, -1.0498529178346687, -1.4056125892297557, 0.285177659664183, -0.6492739239562672, 0.5012995227161157, 0.03528509377059725, 0.56883448098645, -1.4784398626246076, 1.6123190003290375, 0.43522196827199283, -0.6486062908605408, 0.7478443587430036, -0.9267766545985321, 0.45348182371624274, -0.28644722113680454, -1.5095931177363613, -0.3178585864699821, -0.20668615320661607, -0.6128487388586769, -0.03541340230951404, -1.187725784471371, 1.0801992315724553, -1.2728973184623869, -1.3620669866803483, 1.456591395135262, 0.7167271475324386, 0.41626208934572745, -0.2566175159857753, -0.9008430837948269, -1.5689586582374904, -1.4181982273171867, -0.42993705005313165, 0.13476915711561666, -0.12875199094137524, 0.5097891123161852, 0.11602207764627397, -0.7408594187362925, -1.6891650536157548, -1.3754936700426714, -2.8593380902642624, -1.0612721148964024, 0.07167798668814146, -0.8522291027920843, -0.028144269975634264, 0.22678782525334365, 1.8265147798057308, 0.07914256663701637, 0.2543027131239726, 0.5149601837561824, 0.47869574193770864, 0.0061473439032015695, 0.9514705366547868, 0.6927578279013009, 0.9702803920733466, 0.30701576578597495, 0.0868377235115945, 1.389168649193433, -2.154236041844799, -1.9032480468406092, 1.8263403055034513, 0.7547913115937559, 0.07481797641149042, 1.2308691187259984, 0.47972459672366247, 1.2828688453334005, -0.10365862507168307, 0.9861483926780816, -0.13513563649408883, -0.025266122141270685, -0.06212777744352586, -0.2609503651553538, -1.0854584018779998, -0.7788693742809372, 0.2754225250722109, -0.9021176730875247, -0.16779081148214336, -1.865558653349293, 1.6909582160661958, 2.133017088220338, -0.8883485197002401, -1.3245796188461318, 1.3391928564249487, 0.44715038975490257, -0.5603005927559171, -0.6206549538819605, -1.623274463633294, -1.7892640946031106, -0.34875593039395963, 1.4515778729597733, 0.1580158715789384, 0.655294215421494, 0.23007860252913043, 0.1823622573998666, 1.0672902405479652, 2.221974640079927, 1.2882309379881849, -1.2738196079551065, 0.9920155134900143, -0.3451226949602493, -0.8369295638889238, 0.5171538778532746, -1.850513793888751, 1.889269116574189, 0.4935652748171501, 0.16582137285802934, 0.47225399789992495, -1.1522436136384444, -0.17131917790393816, 0.3341031273362318, 0.07283453126480131, -0.8985425689629961, 0.2314768822434915, 2.0717779581881075, -0.38250759421725355, 0.5263778740023979, -0.35323590749001754, -0.22172740252899034, 0.06776490038290407, -0.548326239932729, -0.6444409590659038, 0.8744910546460369, -0.769584964708081, 1.132326154953817, -0.6774620914015103, -0.6100907636747195, -0.022951742701992402, -1.8391563798626678, 0.9138826470074117, 0.292020825958337, 0.9521511884037409, 1.616541473571239, 1.3296044939263916, -0.9419048056932856, 1.4396656485313286, -1.001301801387992, 0.8745933361335796, 0.4210606888921136, 0.1657081811227252, 0.8882784177264995, -0.028557741551708718, 0.28454087209374707, -0.4229995476437138, 0.46809855563894315, 1.438974925179592, -0.3390287972336153, 1.2189723942100046, 0.9762661906350324, 1.8620970086739823, 1.2442768843837884, 1.2758194172922823, 0.07976846769903131, 0.021262340268646797, 2.2457759733094314, -0.2862083553947644, 0.300953756256243, 0.6349699731318157, 0.15148346355792533, -0.2818389901745855, 0.4596859640958476, -0.6794985608388282, 0.67755634223653, -1.7445225584969628, 1.0020983514302613, 1.005673554151056, 0.8390406759039896, -0.7027087178851638, -0.7233995551662145, 0.9206825679926604, -0.5938185757061484, -1.8547064428873714, 1.6771675150018301, -1.5428814809125195, 0.02803028440177921, 0.4003840844436257, 1.020351870114415, -0.5303999058097945, 0.6633673998062966, -0.7839810674021377, 0.15982345854301483, -0.7177117251893663, 0.9738483116583333, -0.1746094341526425, -0.9834806993024772, 1.2419679768422518, -1.1451740314483831, -0.7188966660746984, 0.5785240821330997, 1.2580051847335705, 0.5501763714857405, -1.0416969652381756, 0.6583511635213958, -0.655635126537503, -2.4061710025281156, 1.101788995760916, -0.6046113791152282, 0.813774109387274, -0.6230489764405931, 0.05887020644331452, -0.5838361209372251, 1.0972462880046407, -1.0776750711535448, 0.43904033721628816, 1.2756456557695655, -0.855446633503335, 0.9386243216069032, -1.9551812365155243, 0.41810656491958076, 0.0760248669239318, 1.3732169906022593, -0.601582361092383, -0.7355352514567299, -0.8544280668012918, -1.8755837220175622, 1.03490898228827, -0.7011637649164248, -1.05246994284171, -0.37320548447927915, 0.25504476978590224, 2.1726791992748358, 0.9280689482444339, 1.4171044216768065, -0.5879639610291034, 0.35263513921922957, -0.06033029433140734, -1.3665841301310884, -0.15050158052417772, -0.9635322773027843, -1.606111463392563, -1.4110605616898895, -0.7520446447027088, -1.2796622000634692, -0.8505430888316711, 0.07750645669381359, -0.7031047781052878, -0.7756070839959062, -0.016798534557535667, 0.4445744515401582, 1.301439385012751, 1.7237742200971455, 0.7016109349933114, 0.043455444884958574, -0.3122266649296652, 0.6481524916019077, 0.9971982619720253, -2.3590034742170967, 1.6183799808045853, -0.5029720261105886, -0.9981539322879054, 0.2270305826865697, 1.2714829118369984, -1.305304770586956, 0.9362326958887173, 2.1233580801129177, -1.328188058605051, 1.8671845211642328, -0.17588568296404428, -0.33422141316283843, -0.1456092870672366, 0.3642013077154644, -0.7933699887710524, 0.5557624921597076, -0.32793883425419745, -1.0269800138348901, -1.3312919756571384, 1.1913916043649757, -0.7350468236543649, -0.7263573645597181, -0.7770892339092467, -0.9745402823206948, -0.42172201682257887, 1.0423224825615816, 1.6372943695625688, -1.0583219116253093, 0.44718585337058964, -1.1419575534323059, -1.9195732885822812, 0.47928303342874734, -0.18539891013401644, -0.026640117043482823, -0.8914709333764517, 0.8108386394715532, 0.27898054505668196, 0.38085672539370696, -1.449357253244379, -0.23132162689200045, 0.9869776907989322, -0.7370377181686832, -1.9709407457139447, -0.9923914452315206, 2.2293118167817956, 0.9679434556841194, 1.3894818084505376, 0.3018088738345622, 0.9725209515200745, 0.5018082003305666, -1.7284752361073108, -1.6120302758389333, 0.879404024689635, -0.7578204091951068, -0.260931124456046, 0.058349529191145194, 0.36961639840450244, -1.058773144867004, -0.6111344232876648, 0.6198106324660411, 1.917245107888769, 0.32243416361929644, -0.6539349150870248, 0.6483379500773067, 1.9670930759059364, 0.032856483950135254, -1.296513008376409, 0.6993803274407385, 0.4866860809739812, 1.401558870238427, -2.1734607957683942, -0.8746116130363656, 2.3303012294524033, -0.11993596827822411, -2.044656976014064, -1.4736067213455601, -0.45041601293479955, -0.5318360708838584, -1.1270505075498114, 1.1963615034960389, -1.0108113336778224, 0.2957643070864696, 0.0006387501927541832, -1.0347427826093587, 0.5627419829323957, 0.3080705874770884, -0.9345721754875899, -1.0904606184408985, -0.1330415786569938, 2.5204554554896377, 0.30606516912773357, -0.14200274674818933, 0.5050515054972065, 0.348307939917343, 0.8771691481423985, -0.5149871554214318, 0.46054020946287566, -0.5000885940158891, -2.0808707069846153, -1.728715650467723, -0.2562897027658789, -0.2215436477320775, 0.46098612501973874, -1.248360145981264, -0.8492681282906022, -0.3432612506336726, -0.4307384516859751, 0.18152400134233018, -2.02070455119681, 0.7120396153920143, 0.8264498759623802, -0.1545780795443711, -0.6196067005665039, 1.2322622149506628, 1.4076994298909336, 0.08537075890259439, -0.23980294142992986, -0.12315199532841405, 1.271728463929459, -0.6983605336245255, 0.4263153544244924, -0.9729153820550441, 0.7734987333713694, -0.5722640539560504, 1.337356822535977, -0.05224844131476833, -1.252774608368493, 1.632333272037251, 1.843047729896106, 0.967749189498261, -1.5961464585872223, -0.635570959883086, 0.4673347943455417, 1.2749303024506033, 0.46317421432769956, 1.4705060249282875, 0.6608471884028256, -0.9411312606390583, 0.1743553115115813, 0.3701136592372535, 0.4623464590233663, 0.495730255049853, 0.6377226135195618, 1.1113381287375572, 1.4914595398211725, 0.8116598445261388, -0.07608557236519792, 0.34993642727683955, 0.348028323249053, 0.3352050930741249, -0.6213466652264402, 1.455653097909634, 0.7376159765366945, 0.45253097880622073, 0.052387465701493656, 0.21553576364399146, -0.5902337887672527, 0.5938205344899364, -0.24217035359921887, 0.3767365501813968, 0.03590000226345173, 0.21086696702365845, 0.215486017172464, 0.8632488017531327, 0.3709941094856658, -0.4932315177535547, -1.2477210930461453, 0.8728943387822813, -1.4760813814610583, 0.707700238578848, 1.4146030990047835, 0.2007760890204209, -0.9221734322350756, 0.25782702741393276, 0.8490913724272017, -0.9572805087818339, -0.7802638513951418, 0.459039448554899, -0.973608843950284, 0.43195590531077765, 0.573609264488968, 0.7342478276644648, -0.7820543098292513, 0.07642533971170423, 0.08444871513069568, 1.5061400410539838, 1.4609839289679754, 0.772217071485823, -1.0695897685448588, -0.2665438221731988, -1.728622649229529, -1.9825514938067978, 0.03731528387763809, 0.4581834276753714, 0.23290412879485595, 0.0821837064415753, -0.03485799645611814, -0.3042243643063847, -0.2050343244347882, -0.2747717000068927, 0.5416968889394365, -0.5622287641679319, -0.9621081247568446, 0.21034747044852484, -0.586801674046788, 1.0203022258510823, 0.7985557644621903, -1.2522628021223159, -0.43500474274144457, -1.2847532032176496, -0.6206621752200703, -0.02927428329920929, -0.8425350953081902, 2.65222488670888, -0.8679403514460752, -0.12014971822490308, 0.12472037234831969, 0.663020094777846, 1.4196614623663248, 1.978522139470681, -0.9267907587875377, -0.04762121937509871, -0.2061650072291421, -0.8895804939396468, 0.3577888379596171, -0.6198009060468783, 0.5827692309991833, 0.5956899018791763, 1.848153429409908, 0.47475577281486736, -1.4447662433937372, 0.6089979539944768, -1.8770222426035705, 2.1137588521082447, 0.20553021869382523, 0.2556633232287561, 0.6875670325608189, -1.2703627969840696, -0.10524688558908202, 0.6255510799391926, 0.6657712926023783, -0.3228368106901611, -0.3169748247942009, -0.4070693871232637, 0.8099685406790301, -0.9492115113311463, 0.014976285614108352, -1.4744621330492713, 0.03540839217257503, 0.9436293556826958, -0.799248892572342, 0.6489912101434644, -0.1176905704899906, -0.3000134642406827, 0.16860256215228453, 0.7850010907073911, 0.2648539178754603, 0.35259627105301744, -1.7425252912136686, -0.5847796585715281, -0.27866593769669235, -0.1466120914478576, 0.6193895410834594, -0.9001600660996437, -0.23928709878484128, 1.34040202873234, -0.2138004025426723, -0.9183615873161399, 0.2025001993037366, -0.6030119534242201, -0.9510505996859785, -0.6368691026124573, -1.642950336324266, -0.6809747324509879, -0.9510387613761793, 1.394430095576424, -0.12400801625498917, 1.4423778269725702, -0.6926621039913674, -1.1842713871793642, 1.3391010534540477, -0.23900096565421833, 0.03626758988334994, 1.163731091291753, -0.5736627829544084, 0.09882031168956715, -0.19169737979920318, 0.5951374789609978, -0.6618348039722795, -0.39043300153136384, -0.1488317189178935, 1.4252423705668746, -0.8551244015479927, 0.46509984810572874, 0.49939596380872414, -0.040858460443134334, -0.09661278818412815, -0.33804682195754515, -2.2626154055908523, 0.03843667360339573, 0.12044693887242656, 0.5130040480543808, -0.8634284343734917, -0.5886740349728299, 1.5823226663089054, 0.17328712436228694, -0.27933422680043823, 0.08384790926687571, 0.7680905222939088, 0.01792161532022032, -1.0851559893858365, -0.06207097993779694], \"y\": [-0.6399020342277307, 0.08921533973420999, -0.020777874555482682, -2.63686227147256, 1.4328627138678076, 0.7190458126215103, 1.6476533320893247, 1.0686179521418009, -0.19950843566083998, -0.31739418431846983, 0.7970981661613186, -0.49856008651989675, 0.7881452951937471, -0.3481095614144306, -1.5747315486758995, -0.3815299985942881, -0.5864269210826948, -1.2784386859452832, -0.9277844652939328, 0.006633395618785801, 0.5918552030011894, -0.6117421901242026, -0.3919809128907897, -0.18536124535596138, -1.9859504348348767, -0.33690034450330825, -1.2177196336232115, -0.2344001197532426, -0.8261889646710793, -0.14299815350813339, -0.1914058302886367, -0.28686986798597347, -0.4442587289522388, -2.115616897268811, -1.3468007668721638, 0.5032925147791311, -2.58536718941303, -0.22471441493861355, -0.12469853578234713, 1.0666666251198005, 1.139437110369172, 0.4607759539988472, 0.3802221969265871, -1.1442713735176584, 0.017937991805499588, 1.3436177251614738, 0.40497882372630456, -0.48405410504591123, -0.2846842080150375, 0.6838508830588654, -1.347864974022556, -0.14318268138345353, 0.07317021450119592, -1.1958856571358099, -1.5769259215225746, 1.2970619978183666, -1.2556182112141843, -0.022123633476631543, -0.08749643336282568, 0.20760476440898046, -0.1811884910313975, 0.3700786849141358, 0.9095511383999155, 0.0003628128103790071, 1.8452226857071352, 0.789408507604333, 2.3809738880829032, 0.7783026473467693, 0.0760305200592497, 0.356197982945094, 0.40029560293472416, 1.6456144145694473, -1.2746456339648886, -0.41519571753359413, 0.5152807969946446, 0.9422109852421998, 0.16519448698442266, -0.09010521972927457, -0.4979183397246828, -0.9950220627080109, 0.04042001586818899, -0.6910085463298495, 0.7836123758278446, -2.825988990560648, 1.8852626184567147, -0.7315799612725326, 0.1251560389322506, 1.1779062814658015, 0.766108861714757, 0.45859612571086456, 0.6158957229395225, -2.2440134039076547, 0.09610525999526512, -1.4837383950866219, 0.14388205000831433, -0.06083207606340486, -0.6502509437084973, -1.6845283298680576, 0.5770803913982339, 1.1862553460767677, 0.9283932862807008, -1.1647616545325368, -0.5895071850241108, -0.8046498023002057, -0.30943291098575826, -0.694709835217831, -0.6353758244141021, -0.5438355292362566, -0.513887355873436, 0.37924341784972526, 1.092804468345841, 0.2885993055523018, -1.2730538390827695, -1.3063014844596401, -0.025348485232871188, 0.33357001645507134, -0.07493802143005067, -0.9462773800122095, 2.0359221784549324, 0.6762208176509166, -0.5500181466791397, -1.0991706200485742, -1.0633564083915152, 0.5342057423188282, -0.11629451719558559, 0.014560266166343948, -0.6441593732009587, -0.38348868469124464, -0.24780533281394704, -0.1937700601510234, -0.8936123961936873, 1.7609189326092332, 0.59991639749472, 0.06916551970513732, -1.9086813881798366, 0.10702962283904295, -0.7284477255730476, -0.2162926731627906, -0.3341257114948095, -0.05613812822443727, -0.5462402118110157, -0.0385906948835183, -0.45119489644613564, 0.8516805920235149, -1.4694314932438282, -0.46271046412621575, 1.1534092276959773, 1.163246700532836, 0.03573695914714377, -0.48991364551503847, -0.2461841397768292, -1.057441221830265, 2.4213682235219096, -2.2024121202627716, 0.6845362929906368, 0.14787201734136216, 0.5785386690072105, -0.4986822105087505, -1.3591677791576169, 1.208005823247042, 0.4210244484298995, -0.9434925613323994, 2.104100466060616, 0.6406494731304145, 0.2153027241404445, 0.662201266180719, 1.4291425008816165, 0.29612126696428076, -1.029162479470198, -0.7924315007802685, 0.020378091956623493, 0.35393974154264846, -0.7241234479229156, 2.27886715396866, 0.4215317719186701, -2.36177773401116, 0.6977573493935894, 0.7841984201393616, 0.7314857262206446, -2.335336855595729, -1.619193672347819, -1.3025596277321771, -1.4526838853800719, -1.1141545706572153, 1.1064895970567954, -0.062316170499035456, 1.8711082378038697, -0.8323150249880623, 0.8256186095717667, -0.219396042350499, -1.537343722253097, -1.0141113138170479, -0.7161389994963441, -1.3147656975097834, 1.3749437325300295, -1.1139329556131612, 1.2288343998518714, -0.7872669230143002, 0.11131080088212782, -0.9719304141976427, -2.178059206423073, -0.17481510348559662, 0.6553020963193239, -0.6871990715873127, 0.6556317356225364, -1.0039828014577588, -0.9131109313570469, -0.45133926140451525, -1.9928901544024837, 0.2119148764780596, 0.6799822822460287, 0.6500311959011484, -1.0286522394064477, 1.713572316415558, -0.5316148160699232, 1.1527321342425942, -0.2010230266179117, -0.1014504335404146, -0.27375630399850726, -1.1755857886159506, -1.324584053759126, -0.45365393377171404, 0.7159169276744652, -0.3226952707351352, 0.7399057658829258, -0.3943385991247101, 0.0524287553199784, -0.20633762706641343, 0.09070097470591762, 0.46108483232786934, 0.5291355823994204, -0.8684327802201477, -0.4643210940322914, 0.9860823403790546, -0.2311086740648447, -0.5486228611264541, -0.9207599336258281, 0.16566363122367164, -0.0060346774509574585, 0.2772177913704708, 0.6715283760582411, 0.5931388478948935, 2.1585558514578174, -0.7573816635623838, 1.5616310878951571, -0.1300727698512785, -1.0127056607594667, -0.12283883294751868, -0.7296265133452158, -0.15627812161171367, 0.5661965238532121, 0.29809813174716626, 0.5909223890682621, -0.06070071921876758, 2.5148824426038723, -0.0621858785437625, 1.3037423864693205, 0.17412439292654477, 0.6244147281640678, 0.2337148390945855, -0.8637913599796404, -0.4422773855184026, -0.5503314782657357, -2.7709720509926905, -1.744353971590402, -1.34659422804291, 0.17688550726066182, -0.8810177762049678, 0.8287118772752313, 1.8461215602372458, -0.045877590013863066, -0.7611921935334124, 1.850112813576419, 1.7998973970264298, 0.5943123444242348, -0.7791579020102885, -0.039354819562460445, 0.019068936261542647, -0.9822761905295706, 0.08903436441068967, 1.8209618229760642, 0.24011549308995073, 1.8725986502857361, 0.5946216778993125, 0.7917871242339045, 0.6646534860478222, 0.7057833009339225, -1.1069105195825963, 0.2165819374257467, -1.026729643268043, 0.4515876229417731, 3.352377153947036, -0.6964697549147176, 0.4836341684575837, 0.9382613814542503, -0.3273272432243994, -0.11108953743208817, 0.12869152266793393, 0.46232001567059694, -1.149174107452531, 1.6800835555114157, 0.25805278896300693, -0.009833052840124777, 0.6243155645921636, 0.10147048707478042, -0.5360518541758011, 0.4382078154801342, -2.0755738101402077, -0.13994607572850593, 0.7628701459673661, -0.13076362680255754, -0.35238564076226486, -0.5263331651888267, 0.4319912493349127, -1.1832751309273837, 0.4464423690652152, 1.372401061636921, 1.7227729639932396, -0.6680206951162567, 0.28262529149897364, 0.7819739943536973, 0.38098100898673665, 1.0228964434446501, 0.08098146477206439, 0.2302856054419983, 0.9252658087041598, -1.6080070048876196, 0.08922529329049009, -1.7280585952293848, 0.30476321990063193, -0.17075409383564452, 0.05121486801297731, 1.883372497361731, 0.3225133622521196, -0.772484334694606, 0.2959627559274769, -0.3574511799866274, 1.474271212672951, -1.2766813205930327, 1.7862055777727985, -0.8697268202858254, 1.2821808826516985, 0.5394772991183285, 0.5703659320530329, -1.4970648694437998, 0.3392424008584696, -0.17835389138070257, -1.8801865562597146, 0.07163221531957305, 0.5201331477649619, 0.2890865478318642, -0.32961938825834847, -0.31465568548591594, -0.9335336378083208, 0.3703282869938344, -0.3612776416084458, 0.44316183242628415, 2.0710101733839568, -0.045604068934376844, 0.3104827927856044, -0.5587458688060879, -1.2225009518235064, -0.1502375677404276, 1.2193894180227502, -0.5250899946256028, -1.299174044664043, 0.48010915351897215, 0.7199808192720683, -0.35116005012806856, -0.5020469301480927, -0.7381247935598864, 0.17452358145572658, -0.48808462640665157, -1.263082786377668, -2.4994945009009695, 2.3394266717208265, -0.7977883716098898, -0.2683463951128855, -1.0769598927734179, -0.8685635352082705, 0.5263355373347716, -0.1361709315603729, -0.8758075616564339, 0.7839492135097539, 0.22348411466150025, 0.2158809210984884, 0.5272092160989916, -1.2325110654992752, -0.04685567877851747, -0.5069753750460263, -0.8714965883499682, 0.2837999858836108, 0.14638600179424902, -0.5712013989083318, 2.535787663064741, -0.15815336250730466, -0.5089101608394141, -0.4749755400224811, -0.12184719252517429, -1.1357800342796205, -1.2079949707493456, 0.16975694546251, 0.6980798222169557, -0.28861750364133437, -1.3991067719097883, -1.9955697074383718, 0.7124128978805796, 1.5760788539477042, 0.836525427188992, -0.4877225736652194, 0.08678335825675877, -0.3983615178937491, -0.3481564096522851, 0.550004701198834, -1.1432791038347518, 1.230697544895052, 1.5759262883195468, -0.27277878145704004, 0.5371418918913486, -1.490900346732646, 1.0980187399090582, -1.1935959770463997, 1.1647034599888628, 0.9571914731036955, -0.35590737864685285, 0.7957765408249555, 0.7145233373458881, 0.3318236592239249, -0.3702839814097415, 0.15654553332365678, 0.19679872383489289, -0.5206012178342051, -0.4108098292547568, 0.2924923848564822, 0.3467003766130063, -0.29598575907578717, -0.5587997368827757, 2.196745307804851, -0.028979353232714652, -0.2811075479225673, -0.5178922117702569, 0.3725684849804023, -0.847748937141972, 0.9584104498411417, -0.46416254692207287, -0.08164107408587071, 0.9141619850381238, -0.8627409295722785, -0.28486162401006004, 0.15369973405867807, -0.16602320067564857, 0.33197047522710793, 3.039185533477165, 0.20854591986153653, 0.3120467166830447, 0.9918989622254901, -0.28060725021999694, -0.43373263001498275, 0.629664345801316, 1.3502747169512064, 0.46710183134888966, 0.15934126573162496, 0.15702938596836463, 2.148690030997575, -0.5568853955858781, -1.1440974458316147, 0.4484702180859286, 0.4245949006531221, 0.5062483593561866, 0.6675089668166153, 0.09561899244227368, 0.13401293389043897, 2.437806922520676, 2.850764509518814, -1.7237838728404271, 0.3896221511503314, 1.444887589644919, 1.1608692488114039, 0.21331008276183352, -1.5674073183247008, -1.9611160342124108, 0.13114070070755485, 0.1390419067039414, 0.201875691221135, 2.1116300460292874, -0.03985344774724589, 1.1033406062702726, 1.255239122087884, -0.7700826543154323, 1.5029555203387535, 0.83490085894468, 0.48522406532482926, -0.5443150023094263, -1.0853910560212068, 0.0629253776805732, 0.6092177746707794, 0.08222255245601279, 1.347691632773757, 0.012568883354765378, 0.7455962141353014, 0.28167793392485607, -1.5481516709643663, -1.1206433462988008, -1.7331161646581885, -1.22051102397732, -0.9238520912267743, -0.3652613330711105, -1.1701873085213772, 0.4799355359270955, 1.4457587371732852, -0.416715321118636, 0.07094040805611461, 0.8317388438256006, -0.9745540961212347, -0.06507903436668323, 1.3935741977984974, -0.46072857771788, 0.6683455904372358, 0.41423647049020934, -0.9492095039513283, -0.9233296424995828, -0.4978436908044051, 0.6827958126533248, 1.5991215047063112, 0.6102165275100818, 0.1807418669600188, -0.08526768893699405, 2.125496017843575, 0.9351419699982947, 1.3739264400567872, 0.39383336181820633, -1.0986129265502886, 0.5103700479946016, 1.8712579078401645, -1.2879865112969748, -2.7741186592987104, -0.5884134945245273, -0.9980713126219899, -0.7573786069546276, 0.056724241560722935, -0.3531476873195677, 0.3791889523283035, 0.4104123336413958, -0.4317239451685543, -0.28892872635050826, 0.7983816484998104, 0.36752021887761405, -1.364703777923301, 0.5800018168184223, 0.7115968761438083, 1.305449689163111, -0.612004449135649, 1.0391960374538087, 0.9992313374697956, -0.0886533115647589, -0.28041443772986824, 0.5584775222372597, 0.1154225782758384, -1.539626103102329, -0.37461966953804066, -0.2828504837337003, -0.983659245735906, 1.6666626216702312, 0.47361037033817205, -1.555085673013987, -1.2016622038903826, 0.5421219524241622, 0.3774560421419383, 1.6399736108797256, -0.31758550634428534, -0.7187021497676126, 0.4316878366316522, 1.1995166434861961, -1.507613774737712, -1.1258177873843234, -1.4230799836387473, 0.820818089112775, 0.8424464695295725, 0.6090360785150318, -0.08175691570461686, -0.8790893053575676, -1.1392139894526565, 2.1016478285420592, -0.2788475524167212, -1.6706677681940603, -2.1617313266837224, 0.9432045418579604, 0.7370003863794682, 0.9984710219007547, 0.46030016413505975, 0.7097972264979413, 1.1562276980609136, -0.5659169473256664, 1.4625964556828326, -1.884436645656997, -1.1190566525032928, -1.1471403113740821, -0.23107830186852, -1.6337410358601858, 1.141657182223598, -0.011371409415077166, 1.1582513352248474, 1.1814528364246573, -0.779166186044, -1.1755345518494484, 0.9920617275338683, 0.18160839611780966, -0.4920274776065941, -0.3942733158261949, -0.36401133576674727, 0.774198324421288, 0.14271800451744954, 1.2662947117304189, 1.0604220615291426, -0.48515424912313293, -0.8709182617123866, -0.05057203595983225, -1.1476379845915519, 1.4509444481683886, 0.4562909755932194, 0.6981207891302799, 0.7500838899490765, 0.6723077735248759, -0.3631831241341956, 0.9324005584959894, 0.22695984331092334, -1.547960807723926, 1.0678512006951841, -1.0548978528497666, 0.23420980015623588, 0.6905365455369717, 0.7121711840562767, 1.704418216410666, 0.2206611880428237, 1.2315812061836342, 0.9342795283304405, 0.8800045131012927, 0.14974336616572592, 1.8703761145104867, -0.046089418246462295, 0.15449390703355925, -1.405213722772835, -0.8209291359067761, 1.6308089265351646, -1.159459870301336, 0.0802455000525781, -1.3504599055792246, -0.14501144954298728, 0.49645650469186525, 1.5071297073742824, 0.0527585516789318, 0.6260139446064961, -0.8813558882765757, 1.2014687560891217, 0.5744507523937876, 1.5395598782782511, 0.2719164274365037, -0.7683043458398002, -0.9071869213350262, 0.1493122780398951, 0.21554255947482964, 0.26746693789573295, -1.283583592338243, -0.9848263788419137, -0.0320059136659352, 1.2569188669794564, -0.8073316419002319, -0.30586701749183653, -0.8114177021672097, 1.0309480166321658, 0.7471560539925067, 0.0884059970220817, 1.0158181262241788, 0.5714504216645452, -0.8739305241956616, -0.277498075901012, 0.6157755919878096, -0.5260294818895775, 0.9595864217132349, 1.1319573915383196, -0.45140104657979596, -0.4767460406708339, -2.248519155893933, -0.3827386895337584, -0.9491474020853778, -0.43146972083391383, 0.38150272764515814, 0.06293889012598113, -1.1277088784205755, 0.4927539313100522, -0.2593162777667733, -2.5131984033020154, -1.49272572220437, -0.027505973967056185, 0.8238063820793281, -0.05246849898588017, -0.580014308946785, -1.8815558373528662, 0.023606580892668934, 1.4253411642146028, -0.44817988841221656, 1.4944245039317579, 0.11142743300182709, 1.9708386761104741, -0.5896279711831416, -0.748314254614261, -0.8089385775867404, 0.28315498627019936, 0.6173868462012647, -0.8865822623964323, -3.1224860809259396, -1.2849117208011929, 1.2764343551583996, 1.3099999849893407, -0.05569466106052148, -0.4606202394737971, -1.3294396033818836, -0.05296865609228372, 0.4100754400183106, -0.39825540228059575, 1.320370978737865, -1.401639742713298, -0.028926161534490635, 0.09010324366344613, -1.7883232922788326, -0.31598736513178804, 1.4038864224775063, 1.3421983428212294, 0.32492389790786214, 0.2507284019773477, 0.9725692104747321, 0.5436314009023537, 0.9798775170545022, -0.11717575256442646, -0.3589105006901705, 0.1531309266303402, 1.7212566627678887, -0.3396587509922027, -0.30980705179027757, -0.4905669584536671, 2.0493596014748876, 1.2167848299188018, 0.25188310695780275, -0.5002382997739887, 0.5557133571023213, 1.3359155902458368, -0.13901778903174164, 0.5824191005510717, -0.004163170658468743, -0.11475954535407754, 0.3606112243688726, -5.789788445615286e-05, -0.6797746503374593, 0.6947485894681726, -0.7387711195753475, 0.8430804397290881, -1.2183190665977313, -0.08953164381950383, -0.7123905843168408, -1.8125388174590973, 0.844048855242713, -1.3171148411992433, 1.2251794850116475, 1.3782838845286058, 0.33909253093682207, 1.2250868621074662, 0.8318178197688835, -0.03242638438833826, -0.3340243397279838, -2.509458914723612, 1.2435682604036, 1.1999911073321794, 0.29952587048894735, -0.8415189669968771, -0.24204045778105904, -0.7526656465886977, -0.9500864838716226, -0.26572665578771737, 1.4434761982069053, -1.3864869515234057, -1.5562759672810167, 0.46302856610924054, -0.345342944758271, -0.29693982274593367, -0.47481262386375234, 1.8039127934079136, -0.5373804237132405, -0.9616285065768648, 0.03267710990456814, 1.2730657472215314, 0.6128136273064851, -0.11446157165186163, 0.7941219709700147, 0.878233844868353, 2.042999226108389, -2.116734868797163, 1.467717338120229, -0.6948383693024562, 0.08465287102387455, 0.7081134071698705, -0.4000636836026133, -2.7322760171590934, 0.10754212919392254, -0.5535391260060446, 2.130976270143384, -1.089614840996352, 0.07908111530037965, 1.706244604633776, 0.8445871125725927, 0.9920897973669579, 0.023285852213858694, -0.5311437674107231, 1.407759247802863, 0.1934226000722599, 0.6321819192718533, -1.524869790111628, -0.17165335005281582, 0.31609669145352387, 1.2423202306555996, 0.6809832936061944, -0.790224507943849, -1.6352190498251808, -0.8857273202479451, 1.5754483837818871, -1.1787108830614685, -0.186591951781257, -0.20411721899150861, 0.32869517149555283, -0.22453593833291005, 0.01725920134499307, 0.9836448062976357, -0.2989384563904051, -0.5103492030158747, 2.451406791381022, -0.18414463656490382, 0.5503350164709072, 1.4033603302513915, 0.929259849542886, -0.29991465866021905, -0.35177665691132853, 1.2522677125698187, -0.4139376695746948, -1.0419997995050472, -0.8210168734903699, 0.6993564481322845, -0.597835495211821, 1.1128738910994418, -0.6521234928055532, -0.29934586083623727, 0.6644379726107807, 1.3936510428405242, 0.44775385733750483, -0.406805575094298, -0.41535853824825, -0.19642602715935314, 0.3291871683294545, 0.918393262505265, 0.2955415764391326, 0.7843205647249732, -1.1179541542606461, -0.45206248772604135, 0.4348116455898193, 0.0805858206292141, -0.5944286472343062, 0.029164467868318625, -1.264723331042583, -1.626594870502116, -0.3558944603278486, -3.536206721237278, 0.8251338205097923, -0.20073413201350046, 1.0663531710981025, 0.7646852560077615, 0.0018322675299389994, -0.5317452224926028, 0.10969779267567575, -1.3408566012735816, -0.3366435417732234, 1.0386638343611658, -0.9092125442527127, 0.25401096001120665, 0.4194135029778546, 2.269479582154874, -3.1110335871058594, -0.42969656786085236, -0.08030707391801542, 1.0359630758826626, 0.2782446930477226, -1.3270269061817148, 1.0976576239112465, -0.32402193624875864, 0.36505014608017056, 1.1811541124865763, 1.4933602670409518, -0.023748237053916894, -1.832732226522454, 0.37965005752726705, -0.2190777227397107, -1.4906102491895874, 0.7436337190952048, -0.005110180373002372, -1.3207025738417133, -1.3898363310592723, -1.8024455422015413, -0.6046821505007985, 1.0775514767899423, -1.485781803583542, -1.988306289324001, 0.025437430563695046, 0.6952192973443989, -0.296696514680705, 2.034325843280548, -1.605659143752205, 0.20428931403786216, 0.501703959648307, 0.9970801591589659, -1.9090479074357753, 0.8055299110829066, -2.141729800031753, 2.2040761954993244, 0.7497919272824708, 1.3083386135578934, -0.44721245169670387, 0.4852682244213729, 0.7761870136217399, -1.4331811776996748, 0.3798899526727505, 0.22142320972123947, 1.8176068814810837, -0.028015398989818273, 0.6440604166341805, -1.0023694825049483, -0.7936148371913039, -0.5562587057193468, -1.2254567081732568, -1.1842190469717244, 1.8810943224804073, -0.733231851520522, 0.7522094060179504, 1.5605729868413751, -0.07045732509665409, -1.6120905723863252, -0.2661038508965018, -0.9913948094902595, -1.0720799935224317, -0.05191692133907538, 0.39447832364702123, 0.6800053044037621, 0.2458532129824575, 0.1271091350877431, -0.4514025153815522, -0.22957270764948237, -1.1444290806057293, 1.03975434471538, 0.5286913179016887, 0.6847872391621096, -0.007810528640218258, -0.3052570366589737, -2.031747197686872, -0.2927089136682462, -0.030161235618620347, 0.2603435875871013, -0.5655424151912138, 0.7966442330444371, 0.22994268558020178, 0.015210467937636356, -0.37717618067770975, -0.6467346609569657, -1.1545348915039346, 1.054590127550709, 1.663128623293437, 0.4838893436004858, -0.3334734869262458, 0.13668390278001163, 0.9954425993394574, 0.10172764027992438, -0.797903511299591, -0.04196918217648525, -0.3915006059230409, -1.6184817531020002, 0.48878981911525615, 1.2787895978175288, 2.490420321139034, -1.4249718637715245, 0.35536513239200884, -1.1676440188943293, 0.8331790596352346, 1.7546747186055323, -0.18740017933961298, -0.23791320184908057, 0.5156011121515299, 0.2059523381817439, 0.7514321756912977, 0.8013644494914403, -0.4781920860618831, -0.1768759700930432, -1.1867896086856098, 1.418842345601921, -0.017562107616613958, -0.7479112757123177]}],\n",
       "                        {\"template\": {\"data\": {\"bar\": [{\"error_x\": {\"color\": \"#2a3f5f\"}, \"error_y\": {\"color\": \"#2a3f5f\"}, \"marker\": {\"line\": {\"color\": \"#E5ECF6\", \"width\": 0.5}}, \"type\": \"bar\"}], \"barpolar\": [{\"marker\": {\"line\": {\"color\": \"#E5ECF6\", \"width\": 0.5}}, \"type\": \"barpolar\"}], \"carpet\": [{\"aaxis\": {\"endlinecolor\": \"#2a3f5f\", \"gridcolor\": \"white\", \"linecolor\": \"white\", \"minorgridcolor\": \"white\", \"startlinecolor\": \"#2a3f5f\"}, \"baxis\": {\"endlinecolor\": \"#2a3f5f\", \"gridcolor\": \"white\", \"linecolor\": \"white\", \"minorgridcolor\": \"white\", \"startlinecolor\": \"#2a3f5f\"}, \"type\": \"carpet\"}], \"choropleth\": [{\"colorbar\": {\"outlinewidth\": 0, \"ticks\": \"\"}, \"type\": \"choropleth\"}], \"contour\": [{\"colorbar\": {\"outlinewidth\": 0, \"ticks\": \"\"}, \"colorscale\": [[0.0, \"#0d0887\"], [0.1111111111111111, \"#46039f\"], [0.2222222222222222, \"#7201a8\"], [0.3333333333333333, \"#9c179e\"], [0.4444444444444444, \"#bd3786\"], [0.5555555555555556, \"#d8576b\"], [0.6666666666666666, \"#ed7953\"], [0.7777777777777778, \"#fb9f3a\"], [0.8888888888888888, \"#fdca26\"], [1.0, \"#f0f921\"]], \"type\": \"contour\"}], \"contourcarpet\": [{\"colorbar\": {\"outlinewidth\": 0, \"ticks\": \"\"}, \"type\": \"contourcarpet\"}], \"heatmap\": [{\"colorbar\": {\"outlinewidth\": 0, \"ticks\": \"\"}, \"colorscale\": [[0.0, \"#0d0887\"], [0.1111111111111111, \"#46039f\"], [0.2222222222222222, \"#7201a8\"], [0.3333333333333333, \"#9c179e\"], [0.4444444444444444, \"#bd3786\"], [0.5555555555555556, \"#d8576b\"], [0.6666666666666666, \"#ed7953\"], [0.7777777777777778, \"#fb9f3a\"], [0.8888888888888888, \"#fdca26\"], [1.0, \"#f0f921\"]], \"type\": \"heatmap\"}], \"heatmapgl\": [{\"colorbar\": {\"outlinewidth\": 0, \"ticks\": \"\"}, \"colorscale\": [[0.0, \"#0d0887\"], [0.1111111111111111, \"#46039f\"], [0.2222222222222222, \"#7201a8\"], [0.3333333333333333, \"#9c179e\"], [0.4444444444444444, \"#bd3786\"], [0.5555555555555556, \"#d8576b\"], [0.6666666666666666, \"#ed7953\"], [0.7777777777777778, \"#fb9f3a\"], [0.8888888888888888, \"#fdca26\"], [1.0, \"#f0f921\"]], \"type\": \"heatmapgl\"}], \"histogram\": [{\"marker\": {\"colorbar\": {\"outlinewidth\": 0, \"ticks\": \"\"}}, \"type\": \"histogram\"}], \"histogram2d\": [{\"colorbar\": {\"outlinewidth\": 0, \"ticks\": \"\"}, \"colorscale\": [[0.0, \"#0d0887\"], [0.1111111111111111, \"#46039f\"], [0.2222222222222222, \"#7201a8\"], [0.3333333333333333, \"#9c179e\"], [0.4444444444444444, \"#bd3786\"], [0.5555555555555556, \"#d8576b\"], [0.6666666666666666, \"#ed7953\"], [0.7777777777777778, \"#fb9f3a\"], [0.8888888888888888, \"#fdca26\"], [1.0, \"#f0f921\"]], \"type\": \"histogram2d\"}], \"histogram2dcontour\": [{\"colorbar\": {\"outlinewidth\": 0, \"ticks\": \"\"}, \"colorscale\": [[0.0, \"#0d0887\"], [0.1111111111111111, \"#46039f\"], [0.2222222222222222, \"#7201a8\"], [0.3333333333333333, \"#9c179e\"], [0.4444444444444444, \"#bd3786\"], [0.5555555555555556, \"#d8576b\"], [0.6666666666666666, \"#ed7953\"], [0.7777777777777778, \"#fb9f3a\"], [0.8888888888888888, \"#fdca26\"], [1.0, \"#f0f921\"]], \"type\": \"histogram2dcontour\"}], \"mesh3d\": [{\"colorbar\": {\"outlinewidth\": 0, \"ticks\": \"\"}, \"type\": \"mesh3d\"}], \"parcoords\": [{\"line\": {\"colorbar\": {\"outlinewidth\": 0, \"ticks\": \"\"}}, \"type\": \"parcoords\"}], \"pie\": [{\"automargin\": true, \"type\": \"pie\"}], \"scatter\": [{\"marker\": {\"colorbar\": {\"outlinewidth\": 0, \"ticks\": \"\"}}, \"type\": \"scatter\"}], \"scatter3d\": [{\"line\": {\"colorbar\": {\"outlinewidth\": 0, \"ticks\": \"\"}}, \"marker\": {\"colorbar\": {\"outlinewidth\": 0, \"ticks\": \"\"}}, \"type\": \"scatter3d\"}], \"scattercarpet\": [{\"marker\": {\"colorbar\": {\"outlinewidth\": 0, \"ticks\": \"\"}}, \"type\": \"scattercarpet\"}], \"scattergeo\": [{\"marker\": {\"colorbar\": {\"outlinewidth\": 0, \"ticks\": \"\"}}, \"type\": \"scattergeo\"}], \"scattergl\": [{\"marker\": {\"colorbar\": {\"outlinewidth\": 0, \"ticks\": \"\"}}, \"type\": \"scattergl\"}], \"scattermapbox\": [{\"marker\": {\"colorbar\": {\"outlinewidth\": 0, \"ticks\": \"\"}}, \"type\": \"scattermapbox\"}], \"scatterpolar\": [{\"marker\": {\"colorbar\": {\"outlinewidth\": 0, \"ticks\": \"\"}}, \"type\": \"scatterpolar\"}], \"scatterpolargl\": [{\"marker\": {\"colorbar\": {\"outlinewidth\": 0, \"ticks\": \"\"}}, \"type\": \"scatterpolargl\"}], \"scatterternary\": [{\"marker\": {\"colorbar\": {\"outlinewidth\": 0, \"ticks\": \"\"}}, \"type\": \"scatterternary\"}], \"surface\": [{\"colorbar\": {\"outlinewidth\": 0, \"ticks\": \"\"}, \"colorscale\": [[0.0, \"#0d0887\"], [0.1111111111111111, \"#46039f\"], [0.2222222222222222, \"#7201a8\"], [0.3333333333333333, \"#9c179e\"], [0.4444444444444444, \"#bd3786\"], [0.5555555555555556, \"#d8576b\"], [0.6666666666666666, \"#ed7953\"], [0.7777777777777778, \"#fb9f3a\"], [0.8888888888888888, \"#fdca26\"], [1.0, \"#f0f921\"]], \"type\": \"surface\"}], \"table\": [{\"cells\": {\"fill\": {\"color\": \"#EBF0F8\"}, \"line\": {\"color\": \"white\"}}, \"header\": {\"fill\": {\"color\": \"#C8D4E3\"}, \"line\": {\"color\": \"white\"}}, \"type\": \"table\"}]}, \"layout\": {\"annotationdefaults\": {\"arrowcolor\": \"#2a3f5f\", \"arrowhead\": 0, \"arrowwidth\": 1}, \"coloraxis\": {\"colorbar\": {\"outlinewidth\": 0, \"ticks\": \"\"}}, \"colorscale\": {\"diverging\": [[0, \"#8e0152\"], [0.1, \"#c51b7d\"], [0.2, \"#de77ae\"], [0.3, \"#f1b6da\"], [0.4, \"#fde0ef\"], [0.5, \"#f7f7f7\"], [0.6, \"#e6f5d0\"], [0.7, \"#b8e186\"], [0.8, \"#7fbc41\"], [0.9, \"#4d9221\"], [1, \"#276419\"]], \"sequential\": [[0.0, \"#0d0887\"], [0.1111111111111111, \"#46039f\"], [0.2222222222222222, \"#7201a8\"], [0.3333333333333333, \"#9c179e\"], [0.4444444444444444, \"#bd3786\"], [0.5555555555555556, \"#d8576b\"], [0.6666666666666666, \"#ed7953\"], [0.7777777777777778, \"#fb9f3a\"], [0.8888888888888888, \"#fdca26\"], [1.0, \"#f0f921\"]], \"sequentialminus\": [[0.0, \"#0d0887\"], [0.1111111111111111, \"#46039f\"], [0.2222222222222222, \"#7201a8\"], [0.3333333333333333, \"#9c179e\"], [0.4444444444444444, \"#bd3786\"], [0.5555555555555556, \"#d8576b\"], [0.6666666666666666, \"#ed7953\"], [0.7777777777777778, \"#fb9f3a\"], [0.8888888888888888, \"#fdca26\"], [1.0, \"#f0f921\"]]}, \"colorway\": [\"#636efa\", \"#EF553B\", \"#00cc96\", \"#ab63fa\", \"#FFA15A\", \"#19d3f3\", \"#FF6692\", \"#B6E880\", \"#FF97FF\", \"#FECB52\"], \"font\": {\"color\": \"#2a3f5f\"}, \"geo\": {\"bgcolor\": \"white\", \"lakecolor\": \"white\", \"landcolor\": \"#E5ECF6\", \"showlakes\": true, \"showland\": true, \"subunitcolor\": \"white\"}, \"hoverlabel\": {\"align\": \"left\"}, \"hovermode\": \"closest\", \"mapbox\": {\"style\": \"light\"}, \"paper_bgcolor\": \"white\", \"plot_bgcolor\": \"#E5ECF6\", \"polar\": {\"angularaxis\": {\"gridcolor\": \"white\", \"linecolor\": \"white\", \"ticks\": \"\"}, \"bgcolor\": \"#E5ECF6\", \"radialaxis\": {\"gridcolor\": \"white\", \"linecolor\": \"white\", \"ticks\": \"\"}}, \"scene\": {\"xaxis\": {\"backgroundcolor\": \"#E5ECF6\", \"gridcolor\": \"white\", \"gridwidth\": 2, \"linecolor\": \"white\", \"showbackground\": true, \"ticks\": \"\", \"zerolinecolor\": \"white\"}, \"yaxis\": {\"backgroundcolor\": \"#E5ECF6\", \"gridcolor\": \"white\", \"gridwidth\": 2, \"linecolor\": \"white\", \"showbackground\": true, \"ticks\": \"\", \"zerolinecolor\": \"white\"}, \"zaxis\": {\"backgroundcolor\": \"#E5ECF6\", \"gridcolor\": \"white\", \"gridwidth\": 2, \"linecolor\": \"white\", \"showbackground\": true, \"ticks\": \"\", \"zerolinecolor\": \"white\"}}, \"shapedefaults\": {\"line\": {\"color\": \"#2a3f5f\"}}, \"ternary\": {\"aaxis\": {\"gridcolor\": \"white\", \"linecolor\": \"white\", \"ticks\": \"\"}, \"baxis\": {\"gridcolor\": \"white\", \"linecolor\": \"white\", \"ticks\": \"\"}, \"bgcolor\": \"#E5ECF6\", \"caxis\": {\"gridcolor\": \"white\", \"linecolor\": \"white\", \"ticks\": \"\"}}, \"title\": {\"x\": 0.05}, \"xaxis\": {\"automargin\": true, \"gridcolor\": \"white\", \"linecolor\": \"white\", \"ticks\": \"\", \"title\": {\"standoff\": 15}, \"zerolinecolor\": \"white\", \"zerolinewidth\": 2}, \"yaxis\": {\"automargin\": true, \"gridcolor\": \"white\", \"linecolor\": \"white\", \"ticks\": \"\", \"title\": {\"standoff\": 15}, \"zerolinecolor\": \"white\", \"zerolinewidth\": 2}}}},\n",
       "                        {\"responsive\": true}\n",
       "                    ).then(function(){\n",
       "                            \n",
       "var gd = document.getElementById('82f5ea76-3ff5-479b-8283-c44bf015c296');\n",
       "var x = new MutationObserver(function (mutations, observer) {{\n",
       "        var display = window.getComputedStyle(gd).display;\n",
       "        if (!display || display === 'none') {{\n",
       "            console.log([gd, 'removed!']);\n",
       "            Plotly.purge(gd);\n",
       "            observer.disconnect();\n",
       "        }}\n",
       "}});\n",
       "\n",
       "// Listen for the removal of the full notebook cells\n",
       "var notebookContainer = gd.closest('#notebook-container');\n",
       "if (notebookContainer) {{\n",
       "    x.observe(notebookContainer, {childList: true});\n",
       "}}\n",
       "\n",
       "// Listen for the clearing of the current output cell\n",
       "var outputEl = gd.closest('.output');\n",
       "if (outputEl) {{\n",
       "    x.observe(outputEl, {childList: true});\n",
       "}}\n",
       "\n",
       "                        })\n",
       "                };\n",
       "                });\n",
       "            </script>\n",
       "        </div>"
      ]
     },
     "metadata": {},
     "output_type": "display_data"
    }
   ],
   "source": [
    "trace = go.Scatter(x = random_x,y = random_y,mode = 'markers')\n",
    "data = [trace]\n",
    "plotly.offline.iplot(data,filename='basic-scatter')"
   ]
  },
  {
   "cell_type": "code",
   "execution_count": 63,
   "metadata": {},
   "outputs": [
    {
     "data": {
      "text/plain": [
       "'basic-scatter.html'"
      ]
     },
     "execution_count": 63,
     "metadata": {},
     "output_type": "execute_result"
    }
   ],
   "source": [
    "plotly.offline.plot(data,filename='basic-scatter')"
   ]
  }
 ],
 "metadata": {
  "kernelspec": {
   "display_name": "Python 3",
   "language": "python",
   "name": "python3"
  },
  "language_info": {
   "codemirror_mode": {
    "name": "ipython",
    "version": 3
   },
   "file_extension": ".py",
   "mimetype": "text/x-python",
   "name": "python",
   "nbconvert_exporter": "python",
   "pygments_lexer": "ipython3",
   "version": "3.7.7"
  }
 },
 "nbformat": 4,
 "nbformat_minor": 4
}
